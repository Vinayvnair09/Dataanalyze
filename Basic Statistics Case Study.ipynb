{
 "cells": [
  {
   "cell_type": "code",
   "execution_count": 1,
   "id": "05de14c4",
   "metadata": {},
   "outputs": [],
   "source": [
    "import numpy as np\n",
    "import pandas as pd\n",
    "import datetime as dt\n",
    "import matplotlib.pyplot as plt\n",
    "import seaborn as sns\n",
    "import re\n",
    "import scipy.stats as stats"
   ]
  },
  {
   "cell_type": "code",
   "execution_count": 2,
   "id": "9c39c6e3",
   "metadata": {},
   "outputs": [
    {
     "name": "stdout",
     "output_type": "stream",
     "text": [
      "C:\\Users\\vikas\\OneDrive\\Documents\\Bussiness Analytics\\Python\\Assignment\\Basic Statistics - Hypothesis Testing\n"
     ]
    }
   ],
   "source": [
    "%cd C:\\Users\\vikas\\OneDrive\\Documents\\Bussiness Analytics\\Python\\Assignment\\Basic Statistics - Hypothesis Testing"
   ]
  },
  {
   "cell_type": "code",
   "execution_count": 3,
   "id": "add227f2",
   "metadata": {},
   "outputs": [],
   "source": [
    "treatment_facility=pd.read_csv(\"Treatment_Facility.csv\")\n",
    "priority_assessment=pd.read_csv(\"Priority_Assessment.csv\")\n",
    "price_quotes=pd.read_csv(\"Price_Quotes.csv\")\n",
    "loan_data=pd.read_csv(\"LoansData.csv\")\n",
    "films=pd.read_csv(\"Films.csv\")"
   ]
  },
  {
   "cell_type": "code",
   "execution_count": 4,
   "id": "1f014acc",
   "metadata": {},
   "outputs": [],
   "source": [
    "loan_data.columns= [col.replace('.','_') for col in loan_data.columns]\n",
    "loan_data[\"Debt_To_Income_Ratio\"]=loan_data[\"Debt_To_Income_Ratio\"].str.replace(\"%\",\"\").astype(float)\n",
    "loan_data[\"Interest_Rate\"]=loan_data[\"Interest_Rate\"].str.replace(\"%\",\"\").astype(float)\n",
    "loan_data['FICO_SCORE'] = ((loan_data.FICO_Range.str.split('-', expand=True)[0].astype(float)) + \n",
    "                    (loan_data.FICO_Range.str.split('-', expand=True)[1].astype(float)))/2\n",
    "loan_data.columns= [col.replace('.','_') for col in loan_data.columns]"
   ]
  },
  {
   "cell_type": "code",
   "execution_count": 5,
   "id": "40b5190f",
   "metadata": {},
   "outputs": [],
   "source": [
    "def missing_treat(x):\n",
    "    if ((x.dtype=='float') or (x.dtype=='int')):\n",
    "        x = x.fillna(x.median())\n",
    "    elif x.dtype == 'object':\n",
    "        x = x.fillna(x.mode()[0])\n",
    "    else:\n",
    "        x\n",
    "    return(x)"
   ]
  },
  {
   "cell_type": "code",
   "execution_count": 6,
   "id": "72061b45",
   "metadata": {},
   "outputs": [],
   "source": [
    "loan_data=loan_data.apply(missing_treat)"
   ]
  },
  {
   "cell_type": "code",
   "execution_count": 7,
   "id": "58d59a02",
   "metadata": {},
   "outputs": [
    {
     "data": {
      "text/html": [
       "<div>\n",
       "<style scoped>\n",
       "    .dataframe tbody tr th:only-of-type {\n",
       "        vertical-align: middle;\n",
       "    }\n",
       "\n",
       "    .dataframe tbody tr th {\n",
       "        vertical-align: top;\n",
       "    }\n",
       "\n",
       "    .dataframe thead th {\n",
       "        text-align: right;\n",
       "    }\n",
       "</style>\n",
       "<table border=\"1\" class=\"dataframe\">\n",
       "  <thead>\n",
       "    <tr style=\"text-align: right;\">\n",
       "      <th></th>\n",
       "      <th>Amount_Requested</th>\n",
       "      <th>Amount_Funded_By_Investors</th>\n",
       "      <th>Interest_Rate</th>\n",
       "      <th>Loan_Length</th>\n",
       "      <th>Loan_Purpose</th>\n",
       "      <th>Debt_To_Income_Ratio</th>\n",
       "      <th>State</th>\n",
       "      <th>Home_Ownership</th>\n",
       "      <th>Monthly_Income</th>\n",
       "      <th>FICO_Range</th>\n",
       "      <th>Open_CREDIT_Lines</th>\n",
       "      <th>Revolving_CREDIT_Balance</th>\n",
       "      <th>Inquiries_in_the_Last_6_Months</th>\n",
       "      <th>Employment_Length</th>\n",
       "      <th>FICO_SCORE</th>\n",
       "    </tr>\n",
       "  </thead>\n",
       "  <tbody>\n",
       "    <tr>\n",
       "      <th>0</th>\n",
       "      <td>20000.0</td>\n",
       "      <td>20000.00</td>\n",
       "      <td>8.90</td>\n",
       "      <td>36 months</td>\n",
       "      <td>debt_consolidation</td>\n",
       "      <td>14.90</td>\n",
       "      <td>SC</td>\n",
       "      <td>MORTGAGE</td>\n",
       "      <td>6541.67</td>\n",
       "      <td>735-739</td>\n",
       "      <td>14.0</td>\n",
       "      <td>14272.0</td>\n",
       "      <td>2.0</td>\n",
       "      <td>&lt; 1 year</td>\n",
       "      <td>737.0</td>\n",
       "    </tr>\n",
       "    <tr>\n",
       "      <th>1</th>\n",
       "      <td>19200.0</td>\n",
       "      <td>19200.00</td>\n",
       "      <td>12.12</td>\n",
       "      <td>36 months</td>\n",
       "      <td>debt_consolidation</td>\n",
       "      <td>28.36</td>\n",
       "      <td>TX</td>\n",
       "      <td>MORTGAGE</td>\n",
       "      <td>4583.33</td>\n",
       "      <td>715-719</td>\n",
       "      <td>12.0</td>\n",
       "      <td>11140.0</td>\n",
       "      <td>1.0</td>\n",
       "      <td>2 years</td>\n",
       "      <td>717.0</td>\n",
       "    </tr>\n",
       "    <tr>\n",
       "      <th>2</th>\n",
       "      <td>35000.0</td>\n",
       "      <td>35000.00</td>\n",
       "      <td>21.98</td>\n",
       "      <td>60 months</td>\n",
       "      <td>debt_consolidation</td>\n",
       "      <td>23.81</td>\n",
       "      <td>CA</td>\n",
       "      <td>MORTGAGE</td>\n",
       "      <td>11500.00</td>\n",
       "      <td>690-694</td>\n",
       "      <td>14.0</td>\n",
       "      <td>21977.0</td>\n",
       "      <td>1.0</td>\n",
       "      <td>2 years</td>\n",
       "      <td>692.0</td>\n",
       "    </tr>\n",
       "    <tr>\n",
       "      <th>3</th>\n",
       "      <td>10000.0</td>\n",
       "      <td>9975.00</td>\n",
       "      <td>9.99</td>\n",
       "      <td>36 months</td>\n",
       "      <td>debt_consolidation</td>\n",
       "      <td>14.30</td>\n",
       "      <td>KS</td>\n",
       "      <td>MORTGAGE</td>\n",
       "      <td>3833.33</td>\n",
       "      <td>695-699</td>\n",
       "      <td>10.0</td>\n",
       "      <td>9346.0</td>\n",
       "      <td>0.0</td>\n",
       "      <td>5 years</td>\n",
       "      <td>697.0</td>\n",
       "    </tr>\n",
       "    <tr>\n",
       "      <th>4</th>\n",
       "      <td>12000.0</td>\n",
       "      <td>12000.00</td>\n",
       "      <td>11.71</td>\n",
       "      <td>36 months</td>\n",
       "      <td>credit_card</td>\n",
       "      <td>18.78</td>\n",
       "      <td>NJ</td>\n",
       "      <td>RENT</td>\n",
       "      <td>3195.00</td>\n",
       "      <td>695-699</td>\n",
       "      <td>11.0</td>\n",
       "      <td>14469.0</td>\n",
       "      <td>0.0</td>\n",
       "      <td>9 years</td>\n",
       "      <td>697.0</td>\n",
       "    </tr>\n",
       "    <tr>\n",
       "      <th>...</th>\n",
       "      <td>...</td>\n",
       "      <td>...</td>\n",
       "      <td>...</td>\n",
       "      <td>...</td>\n",
       "      <td>...</td>\n",
       "      <td>...</td>\n",
       "      <td>...</td>\n",
       "      <td>...</td>\n",
       "      <td>...</td>\n",
       "      <td>...</td>\n",
       "      <td>...</td>\n",
       "      <td>...</td>\n",
       "      <td>...</td>\n",
       "      <td>...</td>\n",
       "      <td>...</td>\n",
       "    </tr>\n",
       "    <tr>\n",
       "      <th>2495</th>\n",
       "      <td>30000.0</td>\n",
       "      <td>29950.00</td>\n",
       "      <td>16.77</td>\n",
       "      <td>60 months</td>\n",
       "      <td>debt_consolidation</td>\n",
       "      <td>19.23</td>\n",
       "      <td>NY</td>\n",
       "      <td>MORTGAGE</td>\n",
       "      <td>9250.00</td>\n",
       "      <td>705-709</td>\n",
       "      <td>15.0</td>\n",
       "      <td>45880.0</td>\n",
       "      <td>1.0</td>\n",
       "      <td>8 years</td>\n",
       "      <td>707.0</td>\n",
       "    </tr>\n",
       "    <tr>\n",
       "      <th>2496</th>\n",
       "      <td>16000.0</td>\n",
       "      <td>16000.00</td>\n",
       "      <td>14.09</td>\n",
       "      <td>60 months</td>\n",
       "      <td>home_improvement</td>\n",
       "      <td>21.54</td>\n",
       "      <td>MD</td>\n",
       "      <td>OWN</td>\n",
       "      <td>8903.25</td>\n",
       "      <td>740-744</td>\n",
       "      <td>18.0</td>\n",
       "      <td>18898.0</td>\n",
       "      <td>1.0</td>\n",
       "      <td>10+ years</td>\n",
       "      <td>742.0</td>\n",
       "    </tr>\n",
       "    <tr>\n",
       "      <th>2497</th>\n",
       "      <td>10000.0</td>\n",
       "      <td>10000.00</td>\n",
       "      <td>13.99</td>\n",
       "      <td>36 months</td>\n",
       "      <td>debt_consolidation</td>\n",
       "      <td>4.89</td>\n",
       "      <td>PA</td>\n",
       "      <td>MORTGAGE</td>\n",
       "      <td>2166.67</td>\n",
       "      <td>680-684</td>\n",
       "      <td>4.0</td>\n",
       "      <td>4544.0</td>\n",
       "      <td>0.0</td>\n",
       "      <td>10+ years</td>\n",
       "      <td>682.0</td>\n",
       "    </tr>\n",
       "    <tr>\n",
       "      <th>2498</th>\n",
       "      <td>6000.0</td>\n",
       "      <td>6000.00</td>\n",
       "      <td>12.42</td>\n",
       "      <td>36 months</td>\n",
       "      <td>major_purchase</td>\n",
       "      <td>16.66</td>\n",
       "      <td>NJ</td>\n",
       "      <td>RENT</td>\n",
       "      <td>3500.00</td>\n",
       "      <td>675-679</td>\n",
       "      <td>8.0</td>\n",
       "      <td>7753.0</td>\n",
       "      <td>0.0</td>\n",
       "      <td>5 years</td>\n",
       "      <td>677.0</td>\n",
       "    </tr>\n",
       "    <tr>\n",
       "      <th>2499</th>\n",
       "      <td>9000.0</td>\n",
       "      <td>5242.75</td>\n",
       "      <td>13.79</td>\n",
       "      <td>36 months</td>\n",
       "      <td>debt_consolidation</td>\n",
       "      <td>6.76</td>\n",
       "      <td>NY</td>\n",
       "      <td>RENT</td>\n",
       "      <td>3875.00</td>\n",
       "      <td>670-674</td>\n",
       "      <td>7.0</td>\n",
       "      <td>7589.0</td>\n",
       "      <td>0.0</td>\n",
       "      <td>10+ years</td>\n",
       "      <td>672.0</td>\n",
       "    </tr>\n",
       "  </tbody>\n",
       "</table>\n",
       "<p>2500 rows × 15 columns</p>\n",
       "</div>"
      ],
      "text/plain": [
       "      Amount_Requested  Amount_Funded_By_Investors  Interest_Rate Loan_Length  \\\n",
       "0              20000.0                    20000.00           8.90   36 months   \n",
       "1              19200.0                    19200.00          12.12   36 months   \n",
       "2              35000.0                    35000.00          21.98   60 months   \n",
       "3              10000.0                     9975.00           9.99   36 months   \n",
       "4              12000.0                    12000.00          11.71   36 months   \n",
       "...                ...                         ...            ...         ...   \n",
       "2495           30000.0                    29950.00          16.77   60 months   \n",
       "2496           16000.0                    16000.00          14.09   60 months   \n",
       "2497           10000.0                    10000.00          13.99   36 months   \n",
       "2498            6000.0                     6000.00          12.42   36 months   \n",
       "2499            9000.0                     5242.75          13.79   36 months   \n",
       "\n",
       "            Loan_Purpose  Debt_To_Income_Ratio State Home_Ownership  \\\n",
       "0     debt_consolidation                 14.90    SC       MORTGAGE   \n",
       "1     debt_consolidation                 28.36    TX       MORTGAGE   \n",
       "2     debt_consolidation                 23.81    CA       MORTGAGE   \n",
       "3     debt_consolidation                 14.30    KS       MORTGAGE   \n",
       "4            credit_card                 18.78    NJ           RENT   \n",
       "...                  ...                   ...   ...            ...   \n",
       "2495  debt_consolidation                 19.23    NY       MORTGAGE   \n",
       "2496    home_improvement                 21.54    MD            OWN   \n",
       "2497  debt_consolidation                  4.89    PA       MORTGAGE   \n",
       "2498      major_purchase                 16.66    NJ           RENT   \n",
       "2499  debt_consolidation                  6.76    NY           RENT   \n",
       "\n",
       "      Monthly_Income FICO_Range  Open_CREDIT_Lines  Revolving_CREDIT_Balance  \\\n",
       "0            6541.67    735-739               14.0                   14272.0   \n",
       "1            4583.33    715-719               12.0                   11140.0   \n",
       "2           11500.00    690-694               14.0                   21977.0   \n",
       "3            3833.33    695-699               10.0                    9346.0   \n",
       "4            3195.00    695-699               11.0                   14469.0   \n",
       "...              ...        ...                ...                       ...   \n",
       "2495         9250.00    705-709               15.0                   45880.0   \n",
       "2496         8903.25    740-744               18.0                   18898.0   \n",
       "2497         2166.67    680-684                4.0                    4544.0   \n",
       "2498         3500.00    675-679                8.0                    7753.0   \n",
       "2499         3875.00    670-674                7.0                    7589.0   \n",
       "\n",
       "      Inquiries_in_the_Last_6_Months Employment_Length  FICO_SCORE  \n",
       "0                                2.0          < 1 year       737.0  \n",
       "1                                1.0           2 years       717.0  \n",
       "2                                1.0           2 years       692.0  \n",
       "3                                0.0           5 years       697.0  \n",
       "4                                0.0           9 years       697.0  \n",
       "...                              ...               ...         ...  \n",
       "2495                             1.0           8 years       707.0  \n",
       "2496                             1.0         10+ years       742.0  \n",
       "2497                             0.0         10+ years       682.0  \n",
       "2498                             0.0           5 years       677.0  \n",
       "2499                             0.0         10+ years       672.0  \n",
       "\n",
       "[2500 rows x 15 columns]"
      ]
     },
     "execution_count": 7,
     "metadata": {},
     "output_type": "execute_result"
    }
   ],
   "source": [
    "loan_data"
   ]
  },
  {
   "cell_type": "markdown",
   "id": "39885bff",
   "metadata": {},
   "source": [
    "# BUSINESS PROBLEM-1"
   ]
  },
  {
   "cell_type": "markdown",
   "id": "873d77f4",
   "metadata": {},
   "source": [
    "## a. Intrest rate is varied for different loan amounts (Less intrest charged for high loan amounts)"
   ]
  },
  {
   "cell_type": "markdown",
   "id": "86132634",
   "metadata": {},
   "source": [
    "#### stage:1\n",
    "#### HO : intrest_rate == amount\n",
    "#### H1 : intrest_rate <> amount"
   ]
  },
  {
   "cell_type": "code",
   "execution_count": 8,
   "id": "488a6179",
   "metadata": {},
   "outputs": [
    {
     "data": {
      "text/plain": [
       "(0.3324401743401226, 1.4231505725301343e-65)"
      ]
     },
     "execution_count": 8,
     "metadata": {},
     "output_type": "execute_result"
    }
   ],
   "source": [
    "stats.pearsonr(loan_data.Amount_Requested,loan_data.Interest_Rate)"
   ]
  },
  {
   "cell_type": "markdown",
   "id": "13f1cac8",
   "metadata": {},
   "source": [
    "#### stage 4 - conclusion\n",
    "#### we reject the null hypothesis,there is proportion"
   ]
  },
  {
   "cell_type": "markdown",
   "id": "8d572bc2",
   "metadata": {},
   "source": [
    "## b. Loan length is directly effecting intrest rate."
   ]
  },
  {
   "cell_type": "markdown",
   "id": "d5fc4a76",
   "metadata": {},
   "source": [
    "#### stage:1\n",
    "#### HO : mon_36.Interest_Rate == mon_60.Interest_Rate\n",
    "#### H1 : mon_36.Interest_Rate <> mon_60.Interest_Rate"
   ]
  },
  {
   "cell_type": "code",
   "execution_count": 9,
   "id": "9cf7b609",
   "metadata": {},
   "outputs": [
    {
     "data": {
      "text/plain": [
       "F_onewayResult(statistic=548.0367191411436, pvalue=9.605991607837365e-110)"
      ]
     },
     "execution_count": 9,
     "metadata": {},
     "output_type": "execute_result"
    }
   ],
   "source": [
    "mon_36=loan_data[loan_data.Loan_Length==\"36 months\"]\n",
    "mon_60=loan_data[loan_data.Loan_Length==\"60 months\"]\n",
    "stats.f_oneway(mon_36.Interest_Rate,mon_60.Interest_Rate)"
   ]
  },
  {
   "cell_type": "code",
   "execution_count": 10,
   "id": "f95fed6f",
   "metadata": {},
   "outputs": [
    {
     "data": {
      "text/plain": [
       "F_onewayResult(statistic=548.0367191411436, pvalue=9.605991607837365e-110)"
      ]
     },
     "execution_count": 10,
     "metadata": {},
     "output_type": "execute_result"
    }
   ],
   "source": [
    "mon_36=loan_data[loan_data.Loan_Length==\"36 months\"]\n",
    "mon_60=loan_data[loan_data.Loan_Length==\"60 months\"]\n",
    "stats.f_oneway(mon_36.Interest_Rate,mon_60.Interest_Rate)"
   ]
  },
  {
   "cell_type": "markdown",
   "id": "2c26f1b2",
   "metadata": {},
   "source": [
    "#### stage 4 -conclusion- we reject the null hypothesis,because there is effect in intrest rate on changing the loan lenght"
   ]
  },
  {
   "cell_type": "markdown",
   "id": "24eb902c",
   "metadata": {},
   "source": [
    "## c. Intrest rate varies for different purpose of loans"
   ]
  },
  {
   "cell_type": "markdown",
   "id": "c6c09077",
   "metadata": {},
   "source": [
    "#### stage:1\n",
    "#### HO : a=b=c=d=e..\n",
    "#### H1 : either one is different"
   ]
  },
  {
   "cell_type": "code",
   "execution_count": 11,
   "id": "5f02fb79",
   "metadata": {},
   "outputs": [
    {
     "data": {
      "text/plain": [
       "F_onewayResult(statistic=7.482212567168055, pvalue=1.1627206793499994e-14)"
      ]
     },
     "execution_count": 11,
     "metadata": {},
     "output_type": "execute_result"
    }
   ],
   "source": [
    "a=loan_data[loan_data.Loan_Purpose==\"debt_consolidation\"]\n",
    "b=loan_data[loan_data.Loan_Purpose==\"credit_card\"]\n",
    "c=loan_data[loan_data.Loan_Purpose==\"other\"]\n",
    "d=loan_data[loan_data.Loan_Purpose==\"moving\"]\n",
    "e=loan_data[loan_data.Loan_Purpose==\"car\"]\n",
    "f=loan_data[loan_data.Loan_Purpose==\"vacation\"]\n",
    "g=loan_data[loan_data.Loan_Purpose==\"home_improvement\"]\n",
    "h=loan_data[loan_data.Loan_Purpose==\"house\"]\n",
    "i=loan_data[loan_data.Loan_Purpose==\"major_purchase\"]\n",
    "j=loan_data[loan_data.Loan_Purpose==\"educational\"]\n",
    "k=loan_data[loan_data.Loan_Purpose==\"medical\"]\n",
    "l=loan_data[loan_data.Loan_Purpose==\"small_business\"]\n",
    "m=loan_data[loan_data.Loan_Purpose==\"renewable_energy\"]\n",
    "n=loan_data[loan_data.Loan_Purpose==\"wedding\"]\n",
    "stats.f_oneway(a.Interest_Rate,b.Interest_Rate,c.Interest_Rate,d.Interest_Rate,e.Interest_Rate,\n",
    "               f.Interest_Rate,g.Interest_Rate,h.Interest_Rate,i.Interest_Rate,j.Interest_Rate,\n",
    "               k.Interest_Rate,l.Interest_Rate,m.Interest_Rate,n.Interest_Rate)"
   ]
  },
  {
   "cell_type": "markdown",
   "id": "ad7819be",
   "metadata": {},
   "source": [
    "#### stage 4 - conclusion we reject the null hypothesis,yes there is effect in intrest rate"
   ]
  },
  {
   "cell_type": "markdown",
   "id": "35d66b97",
   "metadata": {},
   "source": [
    "## d. There is relationship between FICO scores and Home Ownership. It means that, People with owning home will have high FICO scores."
   ]
  },
  {
   "cell_type": "markdown",
   "id": "c940a2cc",
   "metadata": {},
   "source": [
    "#### stage:1\n",
    "#### HO : a=b=c=d=e....\n",
    "#### H1 : either one is different "
   ]
  },
  {
   "cell_type": "code",
   "execution_count": 12,
   "id": "5859ace1",
   "metadata": {},
   "outputs": [
    {
     "data": {
      "text/plain": [
       "F_onewayResult(statistic=19.345822938089942, pvalue=1.0902432079019346e-15)"
      ]
     },
     "execution_count": 12,
     "metadata": {},
     "output_type": "execute_result"
    }
   ],
   "source": [
    "a=loan_data[loan_data.Home_Ownership==\"MORTGAGE\"]\n",
    "b=loan_data[loan_data.Home_Ownership==\"RENT\"]\n",
    "c=loan_data[loan_data.Home_Ownership==\"OWN\"]\n",
    "d=loan_data[loan_data.Home_Ownership==\"OTHER\"]\n",
    "e=loan_data[loan_data.Home_Ownership==\"NONE\"]\n",
    "\n",
    "stats.f_oneway(a.FICO_SCORE,b.FICO_SCORE,c.FICO_SCORE,d.FICO_SCORE,e.FICO_SCORE)"
   ]
  },
  {
   "cell_type": "markdown",
   "id": "e7a41b44",
   "metadata": {},
   "source": [
    "#### stage 4 conclusion - we reject the null hypothesis,yes there is effect in FICO scores because of Ownership"
   ]
  },
  {
   "cell_type": "markdown",
   "id": "9bf451e1",
   "metadata": {},
   "source": [
    "# BUSINESS PROBLEM - 2"
   ]
  },
  {
   "cell_type": "markdown",
   "id": "478f621d",
   "metadata": {},
   "source": [
    "### BUSINESS PROBLEM: We would like to assess if there is any difference in the average price quotes provided by Mary and Barry."
   ]
  },
  {
   "cell_type": "markdown",
   "id": "4b87b65e",
   "metadata": {},
   "source": [
    "#### stage:1\n",
    "#### HO : avarage of mary == avarage of barry\n",
    "#### H1 : avarage of mary <> avarage of barry"
   ]
  },
  {
   "cell_type": "code",
   "execution_count": 13,
   "id": "d326da48",
   "metadata": {},
   "outputs": [
    {
     "data": {
      "text/plain": [
       "Ttest_indResult(statistic=-1.4147436739281787, pvalue=0.17114226132118285)"
      ]
     },
     "execution_count": 13,
     "metadata": {},
     "output_type": "execute_result"
    }
   ],
   "source": [
    "stats.ttest_ind(price_quotes.Mary_Price,price_quotes.Barry_Price)"
   ]
  },
  {
   "cell_type": "markdown",
   "id": "ce70e200",
   "metadata": {},
   "source": [
    "#### stage 4 conclusion - We failed to recjected null hypothesis,there is a no difference between price quotes"
   ]
  },
  {
   "cell_type": "markdown",
   "id": "ff37bc9b",
   "metadata": {},
   "source": [
    "# BUSINESS PROBLEM-3"
   ]
  },
  {
   "cell_type": "markdown",
   "id": "38f1f028",
   "metadata": {},
   "source": [
    "## BUSINESS PROBLEM: Determine what effect, if any, the reengineering effort had on the incidence behavioral problems and staff turnover. i.e To determine if the reengineering effort changed the critical incidence rate. Is there evidence that the critical incidence rate improved?"
   ]
  },
  {
   "cell_type": "markdown",
   "id": "d35b854b",
   "metadata": {},
   "source": [
    "#### stage:1\n",
    "#### HO : Prior_staff turnover == Post_staff turnover\n",
    "#### H1 : Prior_staff turnover <> Post_staff turnover"
   ]
  },
  {
   "cell_type": "code",
   "execution_count": 18,
   "id": "f7fc1321",
   "metadata": {},
   "outputs": [
    {
     "data": {
      "text/plain": [
       "Ttest_indResult(statistic=-1.770306704753604, pvalue=0.09361109345535304)"
      ]
     },
     "execution_count": 18,
     "metadata": {},
     "output_type": "execute_result"
    }
   ],
   "source": [
    "Prior_staff=treatment_facility[treatment_facility.Reengineer==\"Prior\"]\n",
    "Post_staff=treatment_facility[treatment_facility.Reengineer==\"Post\"]\n",
    "stats.ttest_ind(Prior.Employee_Turnover,Post.Employee_Turnover)"
   ]
  },
  {
   "cell_type": "markdown",
   "id": "2ad25448",
   "metadata": {},
   "source": [
    "#### stage 4 conclusion - with 90% confidence we can reject the null hypothesis,there is a effect on employee turnover"
   ]
  },
  {
   "cell_type": "markdown",
   "id": "7e2cedb7",
   "metadata": {},
   "source": [
    "#### stage:1\n",
    "#### HO : Prior_staff turnover == Post_staff turnover\n",
    "#### H1 : Prior_staff turnover <> Post_staff turnover"
   ]
  },
  {
   "cell_type": "code",
   "execution_count": 20,
   "id": "4db7dad5",
   "metadata": {},
   "outputs": [
    {
     "data": {
      "text/plain": [
       "Ttest_indResult(statistic=1.6279144253528646, pvalue=0.12091989189884149)"
      ]
     },
     "execution_count": 20,
     "metadata": {},
     "output_type": "execute_result"
    }
   ],
   "source": [
    "Prior_staff1=treatment_facility[treatment_facility.Reengineer==\"Prior\"]\n",
    "Post_staff1=treatment_facility[treatment_facility.Reengineer==\"Post\"]\n",
    "stats.ttest_ind(Prior_staff1.VAR5,Post_staff1.VAR5)"
   ]
  },
  {
   "cell_type": "markdown",
   "id": "d4cc372a",
   "metadata": {},
   "source": [
    "#### stage 4 conclusion - we are failed to reject the null hypothesis,we can't say that their is change in critical incidence"
   ]
  },
  {
   "cell_type": "markdown",
   "id": "58c5f613",
   "metadata": {},
   "source": [
    "# BUSINESS PROBLEM-4"
   ]
  },
  {
   "cell_type": "markdown",
   "id": "f11f926f",
   "metadata": {},
   "source": [
    "## BUSINESS PROBLEM: We will focus on the prioritization system. If the system is working, then high priority jobs, on average, should be completed more quickly than medium priority jobs, and medium priority jobs should be completed more quickly than low priority jobs. Use the data provided to determine whether this is, in fact, occurring."
   ]
  },
  {
   "cell_type": "markdown",
   "id": "45b76416",
   "metadata": {},
   "source": [
    "#### stage:1\n",
    "#### HO : high_priority == medium_priority == low_priority\n",
    "#### H1 : high_priority <> medium_priority <> low_priority"
   ]
  },
  {
   "cell_type": "code",
   "execution_count": 21,
   "id": "1ce0f0e5",
   "metadata": {},
   "outputs": [
    {
     "data": {
      "text/plain": [
       "F_onewayResult(statistic=1.812311010076072, pvalue=0.16411459461716182)"
      ]
     },
     "execution_count": 21,
     "metadata": {},
     "output_type": "execute_result"
    }
   ],
   "source": [
    "high=priority_assessment[priority_assessment.Priority==\"High\"]\n",
    "medium=priority_assessment[priority_assessment.Priority==\"Medium\"]\n",
    "low=priority_assessment[priority_assessment.Priority==\"Low\"]\n",
    "stats.f_oneway(high.Days,medium.Days,low.Days)"
   ]
  },
  {
   "cell_type": "markdown",
   "id": "44e77285",
   "metadata": {},
   "source": [
    "#### stage 4 conclusion - we failed to reject the null hypothesis,there no change in with respect to priority"
   ]
  },
  {
   "cell_type": "markdown",
   "id": "780c761d",
   "metadata": {},
   "source": [
    "# BUSINESS PROBLEM-5"
   ]
  },
  {
   "cell_type": "markdown",
   "id": "38bc1b9b",
   "metadata": {},
   "source": [
    "## a.What is the overall level of customer satisfaction?"
   ]
  },
  {
   "cell_type": "markdown",
   "id": "c49e92a8",
   "metadata": {},
   "source": [
    "#### stage:1\n",
    "#### HO : customer satisfaction == 5\n",
    "#### H1 : customer satisfaction <> 5"
   ]
  },
  {
   "cell_type": "code",
   "execution_count": 25,
   "id": "19ab61b2",
   "metadata": {},
   "outputs": [],
   "source": [
    "films=films.apply(missing_treat)"
   ]
  },
  {
   "cell_type": "code",
   "execution_count": 26,
   "id": "04121990",
   "metadata": {},
   "outputs": [
    {
     "data": {
      "text/plain": [
       "Ttest_1sampResult(statistic=-89.23581000259827, pvalue=1.290517734123711e-232)"
      ]
     },
     "execution_count": 26,
     "metadata": {},
     "output_type": "execute_result"
    }
   ],
   "source": [
    "stats.ttest_1samp(films.Overall,5)"
   ]
  },
  {
   "cell_type": "code",
   "execution_count": 27,
   "id": "c62a59ea",
   "metadata": {},
   "outputs": [
    {
     "data": {
      "text/plain": [
       "1.621212121212121"
      ]
     },
     "execution_count": 27,
     "metadata": {},
     "output_type": "execute_result"
    }
   ],
   "source": [
    "films[\"Overall\"].mean()"
   ]
  },
  {
   "cell_type": "markdown",
   "id": "6298110c",
   "metadata": {},
   "source": [
    "#### stage 4 conclusion - we reject the null hypothesis,we can say that customer satisfaction is different from 5"
   ]
  },
  {
   "cell_type": "markdown",
   "id": "5a760cf1",
   "metadata": {},
   "source": [
    "## b.What factors are linked to satisfaction?"
   ]
  },
  {
   "cell_type": "markdown",
   "id": "b2f2a541",
   "metadata": {},
   "source": [
    "#### stage:1\n",
    "#### HO : rating_of_Sinage == rating_of_Parking == rating_of_Clean\n",
    "#### H1 : rating_of_Sinage <> rating_of_Parking <> rating_of_Clean"
   ]
  },
  {
   "cell_type": "code",
   "execution_count": 28,
   "id": "fc66cfa3",
   "metadata": {},
   "outputs": [
    {
     "data": {
      "text/html": [
       "<div>\n",
       "<style scoped>\n",
       "    .dataframe tbody tr th:only-of-type {\n",
       "        vertical-align: middle;\n",
       "    }\n",
       "\n",
       "    .dataframe tbody tr th {\n",
       "        vertical-align: top;\n",
       "    }\n",
       "\n",
       "    .dataframe thead th {\n",
       "        text-align: right;\n",
       "    }\n",
       "</style>\n",
       "<table border=\"1\" class=\"dataframe\">\n",
       "  <thead>\n",
       "    <tr style=\"text-align: right;\">\n",
       "      <th></th>\n",
       "      <th>_rowstate_</th>\n",
       "      <th>Sinage</th>\n",
       "      <th>Parking</th>\n",
       "      <th>Clean</th>\n",
       "      <th>Overall</th>\n",
       "      <th>Age</th>\n",
       "      <th>Income</th>\n",
       "    </tr>\n",
       "  </thead>\n",
       "  <tbody>\n",
       "    <tr>\n",
       "      <th>_rowstate_</th>\n",
       "      <td>NaN</td>\n",
       "      <td>NaN</td>\n",
       "      <td>NaN</td>\n",
       "      <td>NaN</td>\n",
       "      <td>NaN</td>\n",
       "      <td>NaN</td>\n",
       "      <td>NaN</td>\n",
       "    </tr>\n",
       "    <tr>\n",
       "      <th>Sinage</th>\n",
       "      <td>NaN</td>\n",
       "      <td>1.000000</td>\n",
       "      <td>0.469180</td>\n",
       "      <td>0.349144</td>\n",
       "      <td>0.382103</td>\n",
       "      <td>-0.089461</td>\n",
       "      <td>-0.039997</td>\n",
       "    </tr>\n",
       "    <tr>\n",
       "      <th>Parking</th>\n",
       "      <td>NaN</td>\n",
       "      <td>0.469180</td>\n",
       "      <td>1.000000</td>\n",
       "      <td>0.440771</td>\n",
       "      <td>0.514429</td>\n",
       "      <td>-0.023468</td>\n",
       "      <td>-0.025945</td>\n",
       "    </tr>\n",
       "    <tr>\n",
       "      <th>Clean</th>\n",
       "      <td>NaN</td>\n",
       "      <td>0.349144</td>\n",
       "      <td>0.440771</td>\n",
       "      <td>1.000000</td>\n",
       "      <td>0.350822</td>\n",
       "      <td>-0.000114</td>\n",
       "      <td>0.018345</td>\n",
       "    </tr>\n",
       "    <tr>\n",
       "      <th>Overall</th>\n",
       "      <td>NaN</td>\n",
       "      <td>0.382103</td>\n",
       "      <td>0.514429</td>\n",
       "      <td>0.350822</td>\n",
       "      <td>1.000000</td>\n",
       "      <td>-0.032904</td>\n",
       "      <td>-0.003734</td>\n",
       "    </tr>\n",
       "    <tr>\n",
       "      <th>Age</th>\n",
       "      <td>NaN</td>\n",
       "      <td>-0.089461</td>\n",
       "      <td>-0.023468</td>\n",
       "      <td>-0.000114</td>\n",
       "      <td>-0.032904</td>\n",
       "      <td>1.000000</td>\n",
       "      <td>0.135642</td>\n",
       "    </tr>\n",
       "    <tr>\n",
       "      <th>Income</th>\n",
       "      <td>NaN</td>\n",
       "      <td>-0.039997</td>\n",
       "      <td>-0.025945</td>\n",
       "      <td>0.018345</td>\n",
       "      <td>-0.003734</td>\n",
       "      <td>0.135642</td>\n",
       "      <td>1.000000</td>\n",
       "    </tr>\n",
       "  </tbody>\n",
       "</table>\n",
       "</div>"
      ],
      "text/plain": [
       "            _rowstate_    Sinage   Parking     Clean   Overall       Age  \\\n",
       "_rowstate_         NaN       NaN       NaN       NaN       NaN       NaN   \n",
       "Sinage             NaN  1.000000  0.469180  0.349144  0.382103 -0.089461   \n",
       "Parking            NaN  0.469180  1.000000  0.440771  0.514429 -0.023468   \n",
       "Clean              NaN  0.349144  0.440771  1.000000  0.350822 -0.000114   \n",
       "Overall            NaN  0.382103  0.514429  0.350822  1.000000 -0.032904   \n",
       "Age                NaN -0.089461 -0.023468 -0.000114 -0.032904  1.000000   \n",
       "Income             NaN -0.039997 -0.025945  0.018345 -0.003734  0.135642   \n",
       "\n",
       "              Income  \n",
       "_rowstate_       NaN  \n",
       "Sinage     -0.039997  \n",
       "Parking    -0.025945  \n",
       "Clean       0.018345  \n",
       "Overall    -0.003734  \n",
       "Age         0.135642  \n",
       "Income      1.000000  "
      ]
     },
     "execution_count": 28,
     "metadata": {},
     "output_type": "execute_result"
    }
   ],
   "source": [
    "films.corr()"
   ]
  },
  {
   "cell_type": "code",
   "execution_count": null,
   "id": "b7a1b40b",
   "metadata": {},
   "outputs": [],
   "source": [
    "cross1=pd.crosstab(flim.Sinage,flim.Overall)\n",
    "stats.chi2_contingency(cross1)"
   ]
  },
  {
   "cell_type": "code",
   "execution_count": 29,
   "id": "a0d2521e",
   "metadata": {},
   "outputs": [
    {
     "data": {
      "text/plain": [
       "(125.61859671027881,\n",
       " 4.53298970003405e-19,\n",
       " 16,\n",
       " array([[5.17060606e+01, 5.54727273e+01, 4.10909091e+00, 3.42424242e-01,\n",
       "         1.36969697e+00],\n",
       "        [7.22969697e+01, 7.75636364e+01, 5.74545455e+00, 4.78787879e-01,\n",
       "         1.91515152e+00],\n",
       "        [2.19636364e+01, 2.35636364e+01, 1.74545455e+00, 1.45454545e-01,\n",
       "         5.81818182e-01],\n",
       "        [2.74545455e+00, 2.94545455e+00, 2.18181818e-01, 1.81818182e-02,\n",
       "         7.27272727e-02],\n",
       "        [2.28787879e+00, 2.45454545e+00, 1.81818182e-01, 1.51515152e-02,\n",
       "         6.06060606e-02]]))"
      ]
     },
     "execution_count": 29,
     "metadata": {},
     "output_type": "execute_result"
    }
   ],
   "source": [
    "cross1=pd.crosstab(films.Sinage,films.Overall)\n",
    "stats.chi2_contingency(cross1)"
   ]
  },
  {
   "cell_type": "code",
   "execution_count": 30,
   "id": "ecf597f4",
   "metadata": {},
   "outputs": [
    {
     "data": {
      "text/plain": [
       "(230.61691663391676,\n",
       " 4.783162283608494e-40,\n",
       " 16,\n",
       " array([[6.17727273e+01, 6.62727273e+01, 4.90909091e+00, 4.09090909e-01,\n",
       "         1.63636364e+00],\n",
       "        [7.09242424e+01, 7.60909091e+01, 5.63636364e+00, 4.69696970e-01,\n",
       "         1.87878788e+00],\n",
       "        [1.32696970e+01, 1.42363636e+01, 1.05454545e+00, 8.78787879e-02,\n",
       "         3.51515152e-01],\n",
       "        [3.20303030e+00, 3.43636364e+00, 2.54545455e-01, 2.12121212e-02,\n",
       "         8.48484848e-02],\n",
       "        [1.83030303e+00, 1.96363636e+00, 1.45454545e-01, 1.21212121e-02,\n",
       "         4.84848485e-02]]))"
      ]
     },
     "execution_count": 30,
     "metadata": {},
     "output_type": "execute_result"
    }
   ],
   "source": [
    "cross2=pd.crosstab(films.Parking,films.Overall)\n",
    "stats.chi2_contingency(cross2)"
   ]
  },
  {
   "cell_type": "code",
   "execution_count": 31,
   "id": "faf1cd8f",
   "metadata": {},
   "outputs": [
    {
     "data": {
      "text/plain": [
       "(127.71945555999517,\n",
       " 1.7772535915434025e-19,\n",
       " 16,\n",
       " array([[6.58909091e+01, 7.06909091e+01, 5.23636364e+00, 4.36363636e-01,\n",
       "         1.74545455e+00],\n",
       "        [7.09242424e+01, 7.60909091e+01, 5.63636364e+00, 4.69696970e-01,\n",
       "         1.87878788e+00],\n",
       "        [1.09818182e+01, 1.17818182e+01, 8.72727273e-01, 7.27272727e-02,\n",
       "         2.90909091e-01],\n",
       "        [2.28787879e+00, 2.45454545e+00, 1.81818182e-01, 1.51515152e-02,\n",
       "         6.06060606e-02],\n",
       "        [9.15151515e-01, 9.81818182e-01, 7.27272727e-02, 6.06060606e-03,\n",
       "         2.42424242e-02]]))"
      ]
     },
     "execution_count": 31,
     "metadata": {},
     "output_type": "execute_result"
    }
   ],
   "source": [
    "cross3=pd.crosstab(films.Clean,films.Overall)\n",
    "stats.chi2_contingency(cross3)"
   ]
  },
  {
   "cell_type": "markdown",
   "id": "eb9c2ea7",
   "metadata": {},
   "source": [
    "#### stage 4 conclusion - we reject the null hypothesis,we can say that all factors are different"
   ]
  },
  {
   "cell_type": "markdown",
   "id": "414c581e",
   "metadata": {},
   "source": [
    "## c.What is the demographic profile of Film on the Rocks patrons?"
   ]
  },
  {
   "cell_type": "code",
   "execution_count": 32,
   "id": "2a249872",
   "metadata": {},
   "outputs": [
    {
     "data": {
      "text/html": [
       "<div>\n",
       "<style scoped>\n",
       "    .dataframe tbody tr th:only-of-type {\n",
       "        vertical-align: middle;\n",
       "    }\n",
       "\n",
       "    .dataframe tbody tr th {\n",
       "        vertical-align: top;\n",
       "    }\n",
       "\n",
       "    .dataframe thead th {\n",
       "        text-align: right;\n",
       "    }\n",
       "</style>\n",
       "<table border=\"1\" class=\"dataframe\">\n",
       "  <thead>\n",
       "    <tr style=\"text-align: right;\">\n",
       "      <th>Sinage</th>\n",
       "      <th>1.0</th>\n",
       "      <th>2.0</th>\n",
       "      <th>3.0</th>\n",
       "      <th>4.0</th>\n",
       "      <th>5.0</th>\n",
       "    </tr>\n",
       "    <tr>\n",
       "      <th>Movie</th>\n",
       "      <th></th>\n",
       "      <th></th>\n",
       "      <th></th>\n",
       "      <th></th>\n",
       "      <th></th>\n",
       "    </tr>\n",
       "  </thead>\n",
       "  <tbody>\n",
       "    <tr>\n",
       "      <th>Ferris Buellers Day Off</th>\n",
       "      <td>53</td>\n",
       "      <td>64</td>\n",
       "      <td>19</td>\n",
       "      <td>0</td>\n",
       "      <td>1</td>\n",
       "    </tr>\n",
       "    <tr>\n",
       "      <th>Old School</th>\n",
       "      <td>12</td>\n",
       "      <td>13</td>\n",
       "      <td>4</td>\n",
       "      <td>2</td>\n",
       "      <td>1</td>\n",
       "    </tr>\n",
       "    <tr>\n",
       "      <th>Willy Wonka</th>\n",
       "      <td>48</td>\n",
       "      <td>81</td>\n",
       "      <td>25</td>\n",
       "      <td>4</td>\n",
       "      <td>3</td>\n",
       "    </tr>\n",
       "  </tbody>\n",
       "</table>\n",
       "</div>"
      ],
      "text/plain": [
       "Sinage                   1.0  2.0  3.0  4.0  5.0\n",
       "Movie                                           \n",
       "Ferris Buellers Day Off   53   64   19    0    1\n",
       "Old School                12   13    4    2    1\n",
       "Willy Wonka               48   81   25    4    3"
      ]
     },
     "execution_count": 32,
     "metadata": {},
     "output_type": "execute_result"
    }
   ],
   "source": [
    "pd.crosstab(films.Movie,films.Sinage)"
   ]
  },
  {
   "cell_type": "code",
   "execution_count": 33,
   "id": "6ab2ddab",
   "metadata": {},
   "outputs": [
    {
     "data": {
      "text/html": [
       "<div>\n",
       "<style scoped>\n",
       "    .dataframe tbody tr th:only-of-type {\n",
       "        vertical-align: middle;\n",
       "    }\n",
       "\n",
       "    .dataframe tbody tr th {\n",
       "        vertical-align: top;\n",
       "    }\n",
       "\n",
       "    .dataframe thead th {\n",
       "        text-align: right;\n",
       "    }\n",
       "</style>\n",
       "<table border=\"1\" class=\"dataframe\">\n",
       "  <thead>\n",
       "    <tr style=\"text-align: right;\">\n",
       "      <th>Parking</th>\n",
       "      <th>1.0</th>\n",
       "      <th>2.0</th>\n",
       "      <th>3.0</th>\n",
       "      <th>4.0</th>\n",
       "      <th>5.0</th>\n",
       "    </tr>\n",
       "    <tr>\n",
       "      <th>Movie</th>\n",
       "      <th></th>\n",
       "      <th></th>\n",
       "      <th></th>\n",
       "      <th></th>\n",
       "      <th></th>\n",
       "    </tr>\n",
       "  </thead>\n",
       "  <tbody>\n",
       "    <tr>\n",
       "      <th>Ferris Buellers Day Off</th>\n",
       "      <td>54</td>\n",
       "      <td>66</td>\n",
       "      <td>11</td>\n",
       "      <td>5</td>\n",
       "      <td>1</td>\n",
       "    </tr>\n",
       "    <tr>\n",
       "      <th>Old School</th>\n",
       "      <td>17</td>\n",
       "      <td>11</td>\n",
       "      <td>3</td>\n",
       "      <td>0</td>\n",
       "      <td>1</td>\n",
       "    </tr>\n",
       "    <tr>\n",
       "      <th>Willy Wonka</th>\n",
       "      <td>64</td>\n",
       "      <td>78</td>\n",
       "      <td>15</td>\n",
       "      <td>2</td>\n",
       "      <td>2</td>\n",
       "    </tr>\n",
       "  </tbody>\n",
       "</table>\n",
       "</div>"
      ],
      "text/plain": [
       "Parking                  1.0  2.0  3.0  4.0  5.0\n",
       "Movie                                           \n",
       "Ferris Buellers Day Off   54   66   11    5    1\n",
       "Old School                17   11    3    0    1\n",
       "Willy Wonka               64   78   15    2    2"
      ]
     },
     "execution_count": 33,
     "metadata": {},
     "output_type": "execute_result"
    }
   ],
   "source": [
    "pd.crosstab(films.Movie,films.Parking)"
   ]
  },
  {
   "cell_type": "code",
   "execution_count": 34,
   "id": "febb8a3d",
   "metadata": {},
   "outputs": [
    {
     "data": {
      "text/html": [
       "<div>\n",
       "<style scoped>\n",
       "    .dataframe tbody tr th:only-of-type {\n",
       "        vertical-align: middle;\n",
       "    }\n",
       "\n",
       "    .dataframe tbody tr th {\n",
       "        vertical-align: top;\n",
       "    }\n",
       "\n",
       "    .dataframe thead th {\n",
       "        text-align: right;\n",
       "    }\n",
       "</style>\n",
       "<table border=\"1\" class=\"dataframe\">\n",
       "  <thead>\n",
       "    <tr style=\"text-align: right;\">\n",
       "      <th>Clean</th>\n",
       "      <th>1.0</th>\n",
       "      <th>2.0</th>\n",
       "      <th>3.0</th>\n",
       "      <th>4.0</th>\n",
       "      <th>5.0</th>\n",
       "    </tr>\n",
       "    <tr>\n",
       "      <th>Movie</th>\n",
       "      <th></th>\n",
       "      <th></th>\n",
       "      <th></th>\n",
       "      <th></th>\n",
       "      <th></th>\n",
       "    </tr>\n",
       "  </thead>\n",
       "  <tbody>\n",
       "    <tr>\n",
       "      <th>Ferris Buellers Day Off</th>\n",
       "      <td>61</td>\n",
       "      <td>62</td>\n",
       "      <td>12</td>\n",
       "      <td>2</td>\n",
       "      <td>0</td>\n",
       "    </tr>\n",
       "    <tr>\n",
       "      <th>Old School</th>\n",
       "      <td>12</td>\n",
       "      <td>16</td>\n",
       "      <td>3</td>\n",
       "      <td>0</td>\n",
       "      <td>1</td>\n",
       "    </tr>\n",
       "    <tr>\n",
       "      <th>Willy Wonka</th>\n",
       "      <td>71</td>\n",
       "      <td>77</td>\n",
       "      <td>9</td>\n",
       "      <td>3</td>\n",
       "      <td>1</td>\n",
       "    </tr>\n",
       "  </tbody>\n",
       "</table>\n",
       "</div>"
      ],
      "text/plain": [
       "Clean                    1.0  2.0  3.0  4.0  5.0\n",
       "Movie                                           \n",
       "Ferris Buellers Day Off   61   62   12    2    0\n",
       "Old School                12   16    3    0    1\n",
       "Willy Wonka               71   77    9    3    1"
      ]
     },
     "execution_count": 34,
     "metadata": {},
     "output_type": "execute_result"
    }
   ],
   "source": [
    "pd.crosstab(films.Movie,films.Clean)"
   ]
  },
  {
   "cell_type": "code",
   "execution_count": 35,
   "id": "a8780e57",
   "metadata": {},
   "outputs": [
    {
     "data": {
      "text/html": [
       "<div>\n",
       "<style scoped>\n",
       "    .dataframe tbody tr th:only-of-type {\n",
       "        vertical-align: middle;\n",
       "    }\n",
       "\n",
       "    .dataframe tbody tr th {\n",
       "        vertical-align: top;\n",
       "    }\n",
       "\n",
       "    .dataframe thead th {\n",
       "        text-align: right;\n",
       "    }\n",
       "</style>\n",
       "<table border=\"1\" class=\"dataframe\">\n",
       "  <thead>\n",
       "    <tr style=\"text-align: right;\">\n",
       "      <th>Gender</th>\n",
       "      <th>1</th>\n",
       "      <th>2</th>\n",
       "      <th>Female</th>\n",
       "      <th>Male</th>\n",
       "    </tr>\n",
       "    <tr>\n",
       "      <th>Movie</th>\n",
       "      <th></th>\n",
       "      <th></th>\n",
       "      <th></th>\n",
       "      <th></th>\n",
       "    </tr>\n",
       "  </thead>\n",
       "  <tbody>\n",
       "    <tr>\n",
       "      <th>Ferris Buellers Day Off</th>\n",
       "      <td>38</td>\n",
       "      <td>67</td>\n",
       "      <td>19</td>\n",
       "      <td>13</td>\n",
       "    </tr>\n",
       "    <tr>\n",
       "      <th>Old School</th>\n",
       "      <td>13</td>\n",
       "      <td>19</td>\n",
       "      <td>0</td>\n",
       "      <td>0</td>\n",
       "    </tr>\n",
       "    <tr>\n",
       "      <th>Willy Wonka</th>\n",
       "      <td>53</td>\n",
       "      <td>108</td>\n",
       "      <td>0</td>\n",
       "      <td>0</td>\n",
       "    </tr>\n",
       "  </tbody>\n",
       "</table>\n",
       "</div>"
      ],
      "text/plain": [
       "Gender                    1    2  Female  Male\n",
       "Movie                                         \n",
       "Ferris Buellers Day Off  38   67      19    13\n",
       "Old School               13   19       0     0\n",
       "Willy Wonka              53  108       0     0"
      ]
     },
     "execution_count": 35,
     "metadata": {},
     "output_type": "execute_result"
    }
   ],
   "source": [
    "pd.crosstab(films.Movie,films.Gender)"
   ]
  },
  {
   "cell_type": "code",
   "execution_count": 36,
   "id": "45507fea",
   "metadata": {},
   "outputs": [
    {
     "data": {
      "text/html": [
       "<div>\n",
       "<style scoped>\n",
       "    .dataframe tbody tr th:only-of-type {\n",
       "        vertical-align: middle;\n",
       "    }\n",
       "\n",
       "    .dataframe tbody tr th {\n",
       "        vertical-align: top;\n",
       "    }\n",
       "\n",
       "    .dataframe thead th {\n",
       "        text-align: right;\n",
       "    }\n",
       "</style>\n",
       "<table border=\"1\" class=\"dataframe\">\n",
       "  <thead>\n",
       "    <tr style=\"text-align: right;\">\n",
       "      <th>Marital_Status</th>\n",
       "      <th>1</th>\n",
       "      <th>2</th>\n",
       "      <th>Married</th>\n",
       "      <th>Single</th>\n",
       "      <th>Slngle</th>\n",
       "    </tr>\n",
       "    <tr>\n",
       "      <th>Movie</th>\n",
       "      <th></th>\n",
       "      <th></th>\n",
       "      <th></th>\n",
       "      <th></th>\n",
       "      <th></th>\n",
       "    </tr>\n",
       "  </thead>\n",
       "  <tbody>\n",
       "    <tr>\n",
       "      <th>Ferris Buellers Day Off</th>\n",
       "      <td>29</td>\n",
       "      <td>76</td>\n",
       "      <td>12</td>\n",
       "      <td>18</td>\n",
       "      <td>2</td>\n",
       "    </tr>\n",
       "    <tr>\n",
       "      <th>Old School</th>\n",
       "      <td>11</td>\n",
       "      <td>21</td>\n",
       "      <td>0</td>\n",
       "      <td>0</td>\n",
       "      <td>0</td>\n",
       "    </tr>\n",
       "    <tr>\n",
       "      <th>Willy Wonka</th>\n",
       "      <td>48</td>\n",
       "      <td>113</td>\n",
       "      <td>0</td>\n",
       "      <td>0</td>\n",
       "      <td>0</td>\n",
       "    </tr>\n",
       "  </tbody>\n",
       "</table>\n",
       "</div>"
      ],
      "text/plain": [
       "Marital_Status            1    2  Married  Single  Slngle\n",
       "Movie                                                    \n",
       "Ferris Buellers Day Off  29   76       12      18       2\n",
       "Old School               11   21        0       0       0\n",
       "Willy Wonka              48  113        0       0       0"
      ]
     },
     "execution_count": 36,
     "metadata": {},
     "output_type": "execute_result"
    }
   ],
   "source": [
    "pd.crosstab(films.Movie,films.Marital_Status)"
   ]
  },
  {
   "cell_type": "code",
   "execution_count": 37,
   "id": "18783c0e",
   "metadata": {},
   "outputs": [
    {
     "data": {
      "text/html": [
       "<div>\n",
       "<style scoped>\n",
       "    .dataframe tbody tr th:only-of-type {\n",
       "        vertical-align: middle;\n",
       "    }\n",
       "\n",
       "    .dataframe tbody tr th {\n",
       "        vertical-align: top;\n",
       "    }\n",
       "\n",
       "    .dataframe thead th {\n",
       "        text-align: right;\n",
       "    }\n",
       "</style>\n",
       "<table border=\"1\" class=\"dataframe\">\n",
       "  <thead>\n",
       "    <tr style=\"text-align: right;\">\n",
       "      <th>Overall</th>\n",
       "      <th>1.0</th>\n",
       "      <th>2.0</th>\n",
       "      <th>3.0</th>\n",
       "      <th>4.0</th>\n",
       "      <th>5.0</th>\n",
       "    </tr>\n",
       "    <tr>\n",
       "      <th>Movie</th>\n",
       "      <th></th>\n",
       "      <th></th>\n",
       "      <th></th>\n",
       "      <th></th>\n",
       "      <th></th>\n",
       "    </tr>\n",
       "  </thead>\n",
       "  <tbody>\n",
       "    <tr>\n",
       "      <th>Ferris Buellers Day Off</th>\n",
       "      <td>59</td>\n",
       "      <td>71</td>\n",
       "      <td>4</td>\n",
       "      <td>1</td>\n",
       "      <td>2</td>\n",
       "    </tr>\n",
       "    <tr>\n",
       "      <th>Old School</th>\n",
       "      <td>21</td>\n",
       "      <td>10</td>\n",
       "      <td>0</td>\n",
       "      <td>0</td>\n",
       "      <td>1</td>\n",
       "    </tr>\n",
       "    <tr>\n",
       "      <th>Willy Wonka</th>\n",
       "      <td>71</td>\n",
       "      <td>81</td>\n",
       "      <td>8</td>\n",
       "      <td>0</td>\n",
       "      <td>1</td>\n",
       "    </tr>\n",
       "  </tbody>\n",
       "</table>\n",
       "</div>"
      ],
      "text/plain": [
       "Overall                  1.0  2.0  3.0  4.0  5.0\n",
       "Movie                                           \n",
       "Ferris Buellers Day Off   59   71    4    1    2\n",
       "Old School                21   10    0    0    1\n",
       "Willy Wonka               71   81    8    0    1"
      ]
     },
     "execution_count": 37,
     "metadata": {},
     "output_type": "execute_result"
    }
   ],
   "source": [
    "pd.crosstab(films.Movie,films.Overall)"
   ]
  },
  {
   "cell_type": "markdown",
   "id": "7f0a1d75",
   "metadata": {},
   "source": [
    "## d.In what media outlet(s) should the film series be advertised?"
   ]
  },
  {
   "cell_type": "code",
   "execution_count": 38,
   "id": "217be6e5",
   "metadata": {},
   "outputs": [
    {
     "data": {
      "text/html": [
       "<div>\n",
       "<style scoped>\n",
       "    .dataframe tbody tr th:only-of-type {\n",
       "        vertical-align: middle;\n",
       "    }\n",
       "\n",
       "    .dataframe tbody tr th {\n",
       "        vertical-align: top;\n",
       "    }\n",
       "\n",
       "    .dataframe thead th {\n",
       "        text-align: right;\n",
       "    }\n",
       "</style>\n",
       "<table border=\"1\" class=\"dataframe\">\n",
       "  <thead>\n",
       "    <tr style=\"text-align: right;\">\n",
       "      <th>Hear_About</th>\n",
       "      <th>1</th>\n",
       "      <th>1,5</th>\n",
       "      <th>2</th>\n",
       "      <th>2,5</th>\n",
       "      <th>3</th>\n",
       "      <th>3,4</th>\n",
       "      <th>3,5</th>\n",
       "      <th>4</th>\n",
       "      <th>4,5</th>\n",
       "      <th>5</th>\n",
       "      <th>5,4</th>\n",
       "    </tr>\n",
       "    <tr>\n",
       "      <th>Movie</th>\n",
       "      <th></th>\n",
       "      <th></th>\n",
       "      <th></th>\n",
       "      <th></th>\n",
       "      <th></th>\n",
       "      <th></th>\n",
       "      <th></th>\n",
       "      <th></th>\n",
       "      <th></th>\n",
       "      <th></th>\n",
       "      <th></th>\n",
       "    </tr>\n",
       "  </thead>\n",
       "  <tbody>\n",
       "    <tr>\n",
       "      <th>Ferris Buellers Day Off</th>\n",
       "      <td>13</td>\n",
       "      <td>1</td>\n",
       "      <td>4</td>\n",
       "      <td>1</td>\n",
       "      <td>4</td>\n",
       "      <td>0</td>\n",
       "      <td>0</td>\n",
       "      <td>17</td>\n",
       "      <td>1</td>\n",
       "      <td>96</td>\n",
       "      <td>0</td>\n",
       "    </tr>\n",
       "    <tr>\n",
       "      <th>Old School</th>\n",
       "      <td>1</td>\n",
       "      <td>0</td>\n",
       "      <td>4</td>\n",
       "      <td>0</td>\n",
       "      <td>1</td>\n",
       "      <td>1</td>\n",
       "      <td>0</td>\n",
       "      <td>1</td>\n",
       "      <td>0</td>\n",
       "      <td>24</td>\n",
       "      <td>0</td>\n",
       "    </tr>\n",
       "    <tr>\n",
       "      <th>Willy Wonka</th>\n",
       "      <td>8</td>\n",
       "      <td>0</td>\n",
       "      <td>4</td>\n",
       "      <td>1</td>\n",
       "      <td>9</td>\n",
       "      <td>1</td>\n",
       "      <td>1</td>\n",
       "      <td>23</td>\n",
       "      <td>0</td>\n",
       "      <td>113</td>\n",
       "      <td>1</td>\n",
       "    </tr>\n",
       "  </tbody>\n",
       "</table>\n",
       "</div>"
      ],
      "text/plain": [
       "Hear_About                1  1,5  2  2,5  3  3,4  3,5   4  4,5    5  5,4\n",
       "Movie                                                                   \n",
       "Ferris Buellers Day Off  13    1  4    1  4    0    0  17    1   96    0\n",
       "Old School                1    0  4    0  1    1    0   1    0   24    0\n",
       "Willy Wonka               8    0  4    1  9    1    1  23    0  113    1"
      ]
     },
     "execution_count": 38,
     "metadata": {},
     "output_type": "execute_result"
    }
   ],
   "source": [
    "to_add=pd.crosstab(films.Movie,films.Hear_About)\n",
    "to_add"
   ]
  }
 ],
 "metadata": {
  "kernelspec": {
   "display_name": "Python 3 (ipykernel)",
   "language": "python",
   "name": "python3"
  },
  "language_info": {
   "codemirror_mode": {
    "name": "ipython",
    "version": 3
   },
   "file_extension": ".py",
   "mimetype": "text/x-python",
   "name": "python",
   "nbconvert_exporter": "python",
   "pygments_lexer": "ipython3",
   "version": "3.9.7"
  }
 },
 "nbformat": 4,
 "nbformat_minor": 5
}

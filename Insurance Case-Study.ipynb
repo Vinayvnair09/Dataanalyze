{
 "cells": [
  {
   "cell_type": "code",
   "execution_count": 2,
   "id": "bcfb2ef0",
   "metadata": {},
   "outputs": [],
   "source": [
    "import pandas as pd\n",
    "import numpy as np\n",
    "import matplotlib.pyplot as plt\n",
    "import seaborn as sns\n",
    "import re\n",
    "import datetime as dt\n",
    "import scipy.stats as stats\n",
    "sns.set(style=\"ticks\")\n",
    "plt.style.use('seaborn-dark')"
   ]
  },
  {
   "cell_type": "code",
   "execution_count": 4,
   "id": "1a49e4b0",
   "metadata": {},
   "outputs": [
    {
     "name": "stdout",
     "output_type": "stream",
     "text": [
      "C:\\Users\\vikas\\OneDrive\\Documents\\Bussiness Analytics\\Python\\Assignment\\Python Foundation Case Study 3 - Insurance Claims Case Study\n"
     ]
    }
   ],
   "source": [
    "%cd C:\\Users\\vikas\\OneDrive\\Documents\\Bussiness Analytics\\Python\\Assignment\\Python Foundation Case Study 3 - Insurance Claims Case Study"
   ]
  },
  {
   "cell_type": "code",
   "execution_count": 5,
   "id": "84142a2d",
   "metadata": {},
   "outputs": [
    {
     "data": {
      "text/plain": [
       "'C:\\\\Users\\\\vikas\\\\OneDrive\\\\Documents\\\\Bussiness Analytics\\\\Python\\\\Assignment\\\\Python Foundation Case Study 3 - Insurance Claims Case Study'"
      ]
     },
     "execution_count": 5,
     "metadata": {},
     "output_type": "execute_result"
    }
   ],
   "source": [
    "%pwd"
   ]
  },
  {
   "cell_type": "code",
   "execution_count": 6,
   "id": "85a7cf00",
   "metadata": {},
   "outputs": [],
   "source": [
    "cust_demographics=pd.read_csv(\"cust_demographics.csv\")\n",
    "claims=pd.read_csv(\"claims.csv\")"
   ]
  },
  {
   "cell_type": "markdown",
   "id": "07d2d924",
   "metadata": {},
   "source": [
    "## 1. Import claims_data.csv and cust_data.csv which is provided to you and combine the two datasets appropriately to create a 360-degree view ofthe data. Use the same for the subsequent questions."
   ]
  },
  {
   "cell_type": "code",
   "execution_count": 7,
   "id": "4def04ef",
   "metadata": {},
   "outputs": [
    {
     "data": {
      "text/html": [
       "<div>\n",
       "<style scoped>\n",
       "    .dataframe tbody tr th:only-of-type {\n",
       "        vertical-align: middle;\n",
       "    }\n",
       "\n",
       "    .dataframe tbody tr th {\n",
       "        vertical-align: top;\n",
       "    }\n",
       "\n",
       "    .dataframe thead th {\n",
       "        text-align: right;\n",
       "    }\n",
       "</style>\n",
       "<table border=\"1\" class=\"dataframe\">\n",
       "  <thead>\n",
       "    <tr style=\"text-align: right;\">\n",
       "      <th></th>\n",
       "      <th>claim_id</th>\n",
       "      <th>customer_id</th>\n",
       "      <th>incident_cause</th>\n",
       "      <th>claim_date</th>\n",
       "      <th>claim_area</th>\n",
       "      <th>police_report</th>\n",
       "      <th>claim_type</th>\n",
       "      <th>claim_amount</th>\n",
       "      <th>total_policy_claims</th>\n",
       "      <th>fraudulent</th>\n",
       "      <th>CUST_ID</th>\n",
       "      <th>gender</th>\n",
       "      <th>DateOfBirth</th>\n",
       "      <th>State</th>\n",
       "      <th>Contact</th>\n",
       "      <th>Segment</th>\n",
       "    </tr>\n",
       "  </thead>\n",
       "  <tbody>\n",
       "    <tr>\n",
       "      <th>0</th>\n",
       "      <td>54004764</td>\n",
       "      <td>21868593</td>\n",
       "      <td>Driver error</td>\n",
       "      <td>11/27/2017</td>\n",
       "      <td>Auto</td>\n",
       "      <td>No</td>\n",
       "      <td>Material only</td>\n",
       "      <td>$2980</td>\n",
       "      <td>1.0</td>\n",
       "      <td>No</td>\n",
       "      <td>21868593.0</td>\n",
       "      <td>Female</td>\n",
       "      <td>12-Jan-79</td>\n",
       "      <td>VT</td>\n",
       "      <td>789-916-8172</td>\n",
       "      <td>Platinum</td>\n",
       "    </tr>\n",
       "    <tr>\n",
       "      <th>1</th>\n",
       "      <td>33985796</td>\n",
       "      <td>75740424</td>\n",
       "      <td>Crime</td>\n",
       "      <td>10/03/2018</td>\n",
       "      <td>Home</td>\n",
       "      <td>Unknown</td>\n",
       "      <td>Material only</td>\n",
       "      <td>$2980</td>\n",
       "      <td>3.0</td>\n",
       "      <td>No</td>\n",
       "      <td>75740424.0</td>\n",
       "      <td>Female</td>\n",
       "      <td>13-Jan-70</td>\n",
       "      <td>ME</td>\n",
       "      <td>265-543-1264</td>\n",
       "      <td>Silver</td>\n",
       "    </tr>\n",
       "    <tr>\n",
       "      <th>2</th>\n",
       "      <td>53522022</td>\n",
       "      <td>30308357</td>\n",
       "      <td>Other driver error</td>\n",
       "      <td>02/02/2018</td>\n",
       "      <td>Auto</td>\n",
       "      <td>No</td>\n",
       "      <td>Material only</td>\n",
       "      <td>$3369.5</td>\n",
       "      <td>1.0</td>\n",
       "      <td>Yes</td>\n",
       "      <td>30308357.0</td>\n",
       "      <td>Female</td>\n",
       "      <td>11-Mar-84</td>\n",
       "      <td>TN</td>\n",
       "      <td>798-631-4758</td>\n",
       "      <td>Silver</td>\n",
       "    </tr>\n",
       "    <tr>\n",
       "      <th>3</th>\n",
       "      <td>13015401</td>\n",
       "      <td>47830476</td>\n",
       "      <td>Natural causes</td>\n",
       "      <td>06/17/2018</td>\n",
       "      <td>Auto</td>\n",
       "      <td>No</td>\n",
       "      <td>Material only</td>\n",
       "      <td>$1680</td>\n",
       "      <td>1.0</td>\n",
       "      <td>No</td>\n",
       "      <td>47830476.0</td>\n",
       "      <td>Female</td>\n",
       "      <td>01-May-86</td>\n",
       "      <td>MA</td>\n",
       "      <td>413-187-7945</td>\n",
       "      <td>Silver</td>\n",
       "    </tr>\n",
       "    <tr>\n",
       "      <th>4</th>\n",
       "      <td>22890252</td>\n",
       "      <td>19269962</td>\n",
       "      <td>Crime</td>\n",
       "      <td>01/13/2018</td>\n",
       "      <td>Auto</td>\n",
       "      <td>No</td>\n",
       "      <td>Material only</td>\n",
       "      <td>$2680</td>\n",
       "      <td>1.0</td>\n",
       "      <td>No</td>\n",
       "      <td>19269962.0</td>\n",
       "      <td>Male</td>\n",
       "      <td>13-May-77</td>\n",
       "      <td>NV</td>\n",
       "      <td>956-871-8691</td>\n",
       "      <td>Gold</td>\n",
       "    </tr>\n",
       "    <tr>\n",
       "      <th>...</th>\n",
       "      <td>...</td>\n",
       "      <td>...</td>\n",
       "      <td>...</td>\n",
       "      <td>...</td>\n",
       "      <td>...</td>\n",
       "      <td>...</td>\n",
       "      <td>...</td>\n",
       "      <td>...</td>\n",
       "      <td>...</td>\n",
       "      <td>...</td>\n",
       "      <td>...</td>\n",
       "      <td>...</td>\n",
       "      <td>...</td>\n",
       "      <td>...</td>\n",
       "      <td>...</td>\n",
       "      <td>...</td>\n",
       "    </tr>\n",
       "    <tr>\n",
       "      <th>1095</th>\n",
       "      <td>97727122</td>\n",
       "      <td>35951012</td>\n",
       "      <td>Other driver error</td>\n",
       "      <td>06/11/2017</td>\n",
       "      <td>Auto</td>\n",
       "      <td>No</td>\n",
       "      <td>Material only</td>\n",
       "      <td>$3059</td>\n",
       "      <td>4.0</td>\n",
       "      <td>Yes</td>\n",
       "      <td>NaN</td>\n",
       "      <td>NaN</td>\n",
       "      <td>NaN</td>\n",
       "      <td>NaN</td>\n",
       "      <td>NaN</td>\n",
       "      <td>NaN</td>\n",
       "    </tr>\n",
       "    <tr>\n",
       "      <th>1096</th>\n",
       "      <td>10247193</td>\n",
       "      <td>14818669</td>\n",
       "      <td>Natural causes</td>\n",
       "      <td>03/14/2018</td>\n",
       "      <td>Auto</td>\n",
       "      <td>No</td>\n",
       "      <td>Material only</td>\n",
       "      <td>$1520</td>\n",
       "      <td>2.0</td>\n",
       "      <td>No</td>\n",
       "      <td>NaN</td>\n",
       "      <td>NaN</td>\n",
       "      <td>NaN</td>\n",
       "      <td>NaN</td>\n",
       "      <td>NaN</td>\n",
       "      <td>NaN</td>\n",
       "    </tr>\n",
       "    <tr>\n",
       "      <th>1097</th>\n",
       "      <td>79807493</td>\n",
       "      <td>85322831</td>\n",
       "      <td>Other driver error</td>\n",
       "      <td>02/09/2018</td>\n",
       "      <td>Auto</td>\n",
       "      <td>No</td>\n",
       "      <td>Material and injury</td>\n",
       "      <td>$23575</td>\n",
       "      <td>2.0</td>\n",
       "      <td>Yes</td>\n",
       "      <td>NaN</td>\n",
       "      <td>NaN</td>\n",
       "      <td>NaN</td>\n",
       "      <td>NaN</td>\n",
       "      <td>NaN</td>\n",
       "      <td>NaN</td>\n",
       "    </tr>\n",
       "    <tr>\n",
       "      <th>1098</th>\n",
       "      <td>69299345</td>\n",
       "      <td>73449366</td>\n",
       "      <td>Other causes</td>\n",
       "      <td>03/21/2018</td>\n",
       "      <td>Auto</td>\n",
       "      <td>Unknown</td>\n",
       "      <td>Material and injury</td>\n",
       "      <td>$25120</td>\n",
       "      <td>1.0</td>\n",
       "      <td>No</td>\n",
       "      <td>NaN</td>\n",
       "      <td>NaN</td>\n",
       "      <td>NaN</td>\n",
       "      <td>NaN</td>\n",
       "      <td>NaN</td>\n",
       "      <td>NaN</td>\n",
       "    </tr>\n",
       "    <tr>\n",
       "      <th>1099</th>\n",
       "      <td>58809728</td>\n",
       "      <td>43020876</td>\n",
       "      <td>Other driver error</td>\n",
       "      <td>06/04/2017</td>\n",
       "      <td>Auto</td>\n",
       "      <td>Yes</td>\n",
       "      <td>Material and injury</td>\n",
       "      <td>$36685</td>\n",
       "      <td>3.0</td>\n",
       "      <td>Yes</td>\n",
       "      <td>NaN</td>\n",
       "      <td>NaN</td>\n",
       "      <td>NaN</td>\n",
       "      <td>NaN</td>\n",
       "      <td>NaN</td>\n",
       "      <td>NaN</td>\n",
       "    </tr>\n",
       "  </tbody>\n",
       "</table>\n",
       "<p>1100 rows × 16 columns</p>\n",
       "</div>"
      ],
      "text/plain": [
       "      claim_id  customer_id      incident_cause  claim_date claim_area  \\\n",
       "0     54004764     21868593        Driver error  11/27/2017       Auto   \n",
       "1     33985796     75740424               Crime  10/03/2018       Home   \n",
       "2     53522022     30308357  Other driver error  02/02/2018       Auto   \n",
       "3     13015401     47830476      Natural causes  06/17/2018       Auto   \n",
       "4     22890252     19269962               Crime  01/13/2018       Auto   \n",
       "...        ...          ...                 ...         ...        ...   \n",
       "1095  97727122     35951012  Other driver error  06/11/2017       Auto   \n",
       "1096  10247193     14818669      Natural causes  03/14/2018       Auto   \n",
       "1097  79807493     85322831  Other driver error  02/09/2018       Auto   \n",
       "1098  69299345     73449366        Other causes  03/21/2018       Auto   \n",
       "1099  58809728     43020876  Other driver error  06/04/2017       Auto   \n",
       "\n",
       "     police_report           claim_type claim_amount  total_policy_claims  \\\n",
       "0               No        Material only        $2980                  1.0   \n",
       "1          Unknown        Material only        $2980                  3.0   \n",
       "2               No        Material only      $3369.5                  1.0   \n",
       "3               No        Material only        $1680                  1.0   \n",
       "4               No        Material only        $2680                  1.0   \n",
       "...            ...                  ...          ...                  ...   \n",
       "1095            No        Material only        $3059                  4.0   \n",
       "1096            No        Material only        $1520                  2.0   \n",
       "1097            No  Material and injury       $23575                  2.0   \n",
       "1098       Unknown  Material and injury       $25120                  1.0   \n",
       "1099           Yes  Material and injury       $36685                  3.0   \n",
       "\n",
       "     fraudulent     CUST_ID  gender DateOfBirth State       Contact   Segment  \n",
       "0            No  21868593.0  Female   12-Jan-79    VT  789-916-8172  Platinum  \n",
       "1            No  75740424.0  Female   13-Jan-70    ME  265-543-1264    Silver  \n",
       "2           Yes  30308357.0  Female   11-Mar-84    TN  798-631-4758    Silver  \n",
       "3            No  47830476.0  Female   01-May-86    MA  413-187-7945    Silver  \n",
       "4            No  19269962.0    Male   13-May-77    NV  956-871-8691      Gold  \n",
       "...         ...         ...     ...         ...   ...           ...       ...  \n",
       "1095        Yes         NaN     NaN         NaN   NaN           NaN       NaN  \n",
       "1096         No         NaN     NaN         NaN   NaN           NaN       NaN  \n",
       "1097        Yes         NaN     NaN         NaN   NaN           NaN       NaN  \n",
       "1098         No         NaN     NaN         NaN   NaN           NaN       NaN  \n",
       "1099        Yes         NaN     NaN         NaN   NaN           NaN       NaN  \n",
       "\n",
       "[1100 rows x 16 columns]"
      ]
     },
     "execution_count": 7,
     "metadata": {},
     "output_type": "execute_result"
    }
   ],
   "source": [
    "cust_360=pd.merge(left=claims,right=cust_demographics,how=\"left\",left_on=\"customer_id\",right_on=\"CUST_ID\")\n",
    "cust_360"
   ]
  },
  {
   "cell_type": "code",
   "execution_count": 8,
   "id": "2c24e7fe",
   "metadata": {},
   "outputs": [
    {
     "data": {
      "text/plain": [
       "<bound method IndexOpsMixin.nunique of 0       21868593\n",
       "1       75740424\n",
       "2       30308357\n",
       "3       47830476\n",
       "4       19269962\n",
       "          ...   \n",
       "1080    79539873\n",
       "1081    42364152\n",
       "1082    19888166\n",
       "1083    11256802\n",
       "1084    61575264\n",
       "Name: CUST_ID, Length: 1085, dtype: int64>"
      ]
     },
     "execution_count": 8,
     "metadata": {},
     "output_type": "execute_result"
    }
   ],
   "source": [
    "cust_demographics[\"CUST_ID\"].nunique"
   ]
  },
  {
   "cell_type": "code",
   "execution_count": 9,
   "id": "3564d766",
   "metadata": {},
   "outputs": [
    {
     "data": {
      "text/plain": [
       "<bound method IndexOpsMixin.nunique of 0       21868593\n",
       "1       75740424\n",
       "2       30308357\n",
       "3       47830476\n",
       "4       19269962\n",
       "          ...   \n",
       "1095    35951012\n",
       "1096    14818669\n",
       "1097    85322831\n",
       "1098    73449366\n",
       "1099    43020876\n",
       "Name: customer_id, Length: 1100, dtype: int64>"
      ]
     },
     "execution_count": 9,
     "metadata": {},
     "output_type": "execute_result"
    }
   ],
   "source": [
    "claims[\"customer_id\"].nunique"
   ]
  },
  {
   "cell_type": "markdown",
   "id": "b71e8efb",
   "metadata": {},
   "source": [
    "## 2. Perform a data audit for the datatypes and find out if there are any mismatch within the current datatypes of the columns and their business significance."
   ]
  },
  {
   "cell_type": "code",
   "execution_count": 10,
   "id": "2df66e94",
   "metadata": {},
   "outputs": [
    {
     "name": "stdout",
     "output_type": "stream",
     "text": [
      "<class 'pandas.core.frame.DataFrame'>\n",
      "Int64Index: 1100 entries, 0 to 1099\n",
      "Data columns (total 16 columns):\n",
      " #   Column               Non-Null Count  Dtype  \n",
      "---  ------               --------------  -----  \n",
      " 0   claim_id             1100 non-null   int64  \n",
      " 1   customer_id          1100 non-null   int64  \n",
      " 2   incident_cause       1100 non-null   object \n",
      " 3   claim_date           1100 non-null   object \n",
      " 4   claim_area           1100 non-null   object \n",
      " 5   police_report        1100 non-null   object \n",
      " 6   claim_type           1100 non-null   object \n",
      " 7   claim_amount         1035 non-null   object \n",
      " 8   total_policy_claims  1090 non-null   float64\n",
      " 9   fraudulent           1100 non-null   object \n",
      " 10  CUST_ID              1085 non-null   float64\n",
      " 11  gender               1085 non-null   object \n",
      " 12  DateOfBirth          1085 non-null   object \n",
      " 13  State                1085 non-null   object \n",
      " 14  Contact              1085 non-null   object \n",
      " 15  Segment              1085 non-null   object \n",
      "dtypes: float64(2), int64(2), object(12)\n",
      "memory usage: 146.1+ KB\n"
     ]
    }
   ],
   "source": [
    "cust_360.info()"
   ]
  },
  {
   "cell_type": "markdown",
   "id": "bf812b53",
   "metadata": {},
   "source": [
    "## 3. Convert the column claim_amount to numeric. Use the appropriate modules/attributes to remove the $ sign."
   ]
  },
  {
   "cell_type": "code",
   "execution_count": 11,
   "id": "8050b15c",
   "metadata": {},
   "outputs": [
    {
     "name": "stderr",
     "output_type": "stream",
     "text": [
      "C:\\Users\\vikas\\AppData\\Local\\Temp\\ipykernel_9864\\3588359986.py:1: FutureWarning: The default value of regex will change from True to False in a future version. In addition, single character regular expressions will *not* be treated as literal strings when regex=True.\n",
      "  cust_360[\"claim_amount\"]=cust_360[\"claim_amount\"].str.replace(\"$\",\" \")\n"
     ]
    }
   ],
   "source": [
    "cust_360[\"claim_amount\"]=cust_360[\"claim_amount\"].str.replace(\"$\",\" \")"
   ]
  },
  {
   "cell_type": "code",
   "execution_count": 12,
   "id": "3ef310a4",
   "metadata": {},
   "outputs": [],
   "source": [
    "cust_360[\"claim_amount\"]=cust_360[\"claim_amount\"].astype(float)\n",
    "cust_360[\"DateOfBirth\"]=pd.to_datetime(cust_360[\"DateOfBirth\"])\n",
    "cust_360[\"claim_date\"]=pd.to_datetime(cust_360[\"claim_date\"])"
   ]
  },
  {
   "cell_type": "markdown",
   "id": "b5968c36",
   "metadata": {},
   "source": [
    "## 4.Of all the injury claims, some of them have gone unreported with the police. Create an alert flag (1,0) for all such claims."
   ]
  },
  {
   "cell_type": "code",
   "execution_count": 18,
   "id": "80546bcb",
   "metadata": {},
   "outputs": [
    {
     "name": "stderr",
     "output_type": "stream",
     "text": [
      "C:\\Users\\vikas\\AppData\\Local\\Temp\\ipykernel_9864\\3061934568.py:2: SettingWithCopyWarning: \n",
      "A value is trying to be set on a copy of a slice from a DataFrame.\n",
      "Try using .loc[row_indexer,col_indexer] = value instead\n",
      "\n",
      "See the caveats in the documentation: https://pandas.pydata.org/pandas-docs/stable/user_guide/indexing.html#returning-a-view-versus-a-copy\n",
      "  cust_360_unreported[\"flag\"]=np.where(cust_360_unreported[\"police_report\"]==\"No\",0, np.where(cust_360_unreported[\"police_report\"]==\"Yes\",1,np.nan))\n"
     ]
    }
   ],
   "source": [
    "cust_360_unreported=cust_360[cust_360[\"claim_type\"]== \"Injury only\"]\n",
    "cust_360_unreported[\"flag\"]=np.where(cust_360_unreported[\"police_report\"]==\"No\",0, np.where(cust_360_unreported[\"police_report\"]==\"Yes\",1,np.nan))\n",
    "#cust_360_unreported[\"poloce_report\"]==\"No\""
   ]
  },
  {
   "cell_type": "code",
   "execution_count": 19,
   "id": "b3174398",
   "metadata": {},
   "outputs": [
    {
     "data": {
      "text/html": [
       "<div>\n",
       "<style scoped>\n",
       "    .dataframe tbody tr th:only-of-type {\n",
       "        vertical-align: middle;\n",
       "    }\n",
       "\n",
       "    .dataframe tbody tr th {\n",
       "        vertical-align: top;\n",
       "    }\n",
       "\n",
       "    .dataframe thead th {\n",
       "        text-align: right;\n",
       "    }\n",
       "</style>\n",
       "<table border=\"1\" class=\"dataframe\">\n",
       "  <thead>\n",
       "    <tr style=\"text-align: right;\">\n",
       "      <th></th>\n",
       "      <th>claim_id</th>\n",
       "      <th>customer_id</th>\n",
       "      <th>incident_cause</th>\n",
       "      <th>claim_date</th>\n",
       "      <th>claim_area</th>\n",
       "      <th>police_report</th>\n",
       "      <th>claim_type</th>\n",
       "      <th>claim_amount</th>\n",
       "      <th>total_policy_claims</th>\n",
       "      <th>fraudulent</th>\n",
       "      <th>CUST_ID</th>\n",
       "      <th>gender</th>\n",
       "      <th>DateOfBirth</th>\n",
       "      <th>State</th>\n",
       "      <th>Contact</th>\n",
       "      <th>Segment</th>\n",
       "      <th>flag</th>\n",
       "    </tr>\n",
       "  </thead>\n",
       "  <tbody>\n",
       "    <tr>\n",
       "      <th>5</th>\n",
       "      <td>24050443</td>\n",
       "      <td>21831191</td>\n",
       "      <td>Other driver error</td>\n",
       "      <td>2017-10-04</td>\n",
       "      <td>Auto</td>\n",
       "      <td>No</td>\n",
       "      <td>Injury only</td>\n",
       "      <td>38306.5</td>\n",
       "      <td>3.0</td>\n",
       "      <td>Yes</td>\n",
       "      <td>21831191.0</td>\n",
       "      <td>Male</td>\n",
       "      <td>1977-05-17</td>\n",
       "      <td>NH</td>\n",
       "      <td>419-712-8513</td>\n",
       "      <td>Gold</td>\n",
       "      <td>0.0</td>\n",
       "    </tr>\n",
       "    <tr>\n",
       "      <th>14</th>\n",
       "      <td>67257404</td>\n",
       "      <td>18288638</td>\n",
       "      <td>Other driver error</td>\n",
       "      <td>2018-04-24</td>\n",
       "      <td>Auto</td>\n",
       "      <td>Yes</td>\n",
       "      <td>Injury only</td>\n",
       "      <td>32560.0</td>\n",
       "      <td>1.0</td>\n",
       "      <td>No</td>\n",
       "      <td>18288638.0</td>\n",
       "      <td>Female</td>\n",
       "      <td>2069-01-14</td>\n",
       "      <td>MI</td>\n",
       "      <td>314-135-1359</td>\n",
       "      <td>Platinum</td>\n",
       "      <td>1.0</td>\n",
       "    </tr>\n",
       "    <tr>\n",
       "      <th>17</th>\n",
       "      <td>7809917</td>\n",
       "      <td>63916778</td>\n",
       "      <td>Other causes</td>\n",
       "      <td>2017-07-22</td>\n",
       "      <td>Auto</td>\n",
       "      <td>No</td>\n",
       "      <td>Injury only</td>\n",
       "      <td>17800.0</td>\n",
       "      <td>1.0</td>\n",
       "      <td>No</td>\n",
       "      <td>63916778.0</td>\n",
       "      <td>Male</td>\n",
       "      <td>2066-09-07</td>\n",
       "      <td>IL</td>\n",
       "      <td>146-157-4572</td>\n",
       "      <td>Platinum</td>\n",
       "      <td>0.0</td>\n",
       "    </tr>\n",
       "    <tr>\n",
       "      <th>18</th>\n",
       "      <td>29205389</td>\n",
       "      <td>17004138</td>\n",
       "      <td>Natural causes</td>\n",
       "      <td>2017-06-25</td>\n",
       "      <td>Auto</td>\n",
       "      <td>No</td>\n",
       "      <td>Injury only</td>\n",
       "      <td>31380.0</td>\n",
       "      <td>1.0</td>\n",
       "      <td>No</td>\n",
       "      <td>17004138.0</td>\n",
       "      <td>Female</td>\n",
       "      <td>2065-08-13</td>\n",
       "      <td>WA</td>\n",
       "      <td>436-354-4682</td>\n",
       "      <td>Silver</td>\n",
       "      <td>0.0</td>\n",
       "    </tr>\n",
       "    <tr>\n",
       "      <th>19</th>\n",
       "      <td>19051665</td>\n",
       "      <td>9667764</td>\n",
       "      <td>Other causes</td>\n",
       "      <td>2017-12-17</td>\n",
       "      <td>Auto</td>\n",
       "      <td>Yes</td>\n",
       "      <td>Injury only</td>\n",
       "      <td>36190.0</td>\n",
       "      <td>1.0</td>\n",
       "      <td>No</td>\n",
       "      <td>9667764.0</td>\n",
       "      <td>Female</td>\n",
       "      <td>1979-10-10</td>\n",
       "      <td>SC</td>\n",
       "      <td>643-978-8251</td>\n",
       "      <td>Platinum</td>\n",
       "      <td>1.0</td>\n",
       "    </tr>\n",
       "    <tr>\n",
       "      <th>...</th>\n",
       "      <td>...</td>\n",
       "      <td>...</td>\n",
       "      <td>...</td>\n",
       "      <td>...</td>\n",
       "      <td>...</td>\n",
       "      <td>...</td>\n",
       "      <td>...</td>\n",
       "      <td>...</td>\n",
       "      <td>...</td>\n",
       "      <td>...</td>\n",
       "      <td>...</td>\n",
       "      <td>...</td>\n",
       "      <td>...</td>\n",
       "      <td>...</td>\n",
       "      <td>...</td>\n",
       "      <td>...</td>\n",
       "      <td>...</td>\n",
       "    </tr>\n",
       "    <tr>\n",
       "      <th>1064</th>\n",
       "      <td>56358443</td>\n",
       "      <td>75934330</td>\n",
       "      <td>Natural causes</td>\n",
       "      <td>2017-01-01</td>\n",
       "      <td>Auto</td>\n",
       "      <td>Yes</td>\n",
       "      <td>Injury only</td>\n",
       "      <td>20630.0</td>\n",
       "      <td>1.0</td>\n",
       "      <td>No</td>\n",
       "      <td>75934330.0</td>\n",
       "      <td>Female</td>\n",
       "      <td>1987-10-09</td>\n",
       "      <td>ME</td>\n",
       "      <td>951-941-3975</td>\n",
       "      <td>Platinum</td>\n",
       "      <td>1.0</td>\n",
       "    </tr>\n",
       "    <tr>\n",
       "      <th>1072</th>\n",
       "      <td>50800999</td>\n",
       "      <td>51669975</td>\n",
       "      <td>Other causes</td>\n",
       "      <td>2018-09-19</td>\n",
       "      <td>Home</td>\n",
       "      <td>Yes</td>\n",
       "      <td>Injury only</td>\n",
       "      <td>38950.0</td>\n",
       "      <td>1.0</td>\n",
       "      <td>No</td>\n",
       "      <td>51669975.0</td>\n",
       "      <td>Female</td>\n",
       "      <td>1988-02-05</td>\n",
       "      <td>ND</td>\n",
       "      <td>975-463-9541</td>\n",
       "      <td>Silver</td>\n",
       "      <td>1.0</td>\n",
       "    </tr>\n",
       "    <tr>\n",
       "      <th>1074</th>\n",
       "      <td>36599575</td>\n",
       "      <td>87596868</td>\n",
       "      <td>Driver error</td>\n",
       "      <td>2018-10-09</td>\n",
       "      <td>Auto</td>\n",
       "      <td>Unknown</td>\n",
       "      <td>Injury only</td>\n",
       "      <td>33330.0</td>\n",
       "      <td>2.0</td>\n",
       "      <td>No</td>\n",
       "      <td>87596868.0</td>\n",
       "      <td>Male</td>\n",
       "      <td>2061-11-18</td>\n",
       "      <td>AZ</td>\n",
       "      <td>573-396-3182</td>\n",
       "      <td>Silver</td>\n",
       "      <td>NaN</td>\n",
       "    </tr>\n",
       "    <tr>\n",
       "      <th>1082</th>\n",
       "      <td>22690595</td>\n",
       "      <td>19888166</td>\n",
       "      <td>Other driver error</td>\n",
       "      <td>2017-05-15</td>\n",
       "      <td>Auto</td>\n",
       "      <td>Yes</td>\n",
       "      <td>Injury only</td>\n",
       "      <td>33080.0</td>\n",
       "      <td>2.0</td>\n",
       "      <td>No</td>\n",
       "      <td>19888166.0</td>\n",
       "      <td>Male</td>\n",
       "      <td>1990-04-11</td>\n",
       "      <td>WI</td>\n",
       "      <td>712-651-9613</td>\n",
       "      <td>Gold</td>\n",
       "      <td>1.0</td>\n",
       "    </tr>\n",
       "    <tr>\n",
       "      <th>1087</th>\n",
       "      <td>45052103</td>\n",
       "      <td>55466148</td>\n",
       "      <td>Driver error</td>\n",
       "      <td>2017-12-03</td>\n",
       "      <td>Auto</td>\n",
       "      <td>No</td>\n",
       "      <td>Injury only</td>\n",
       "      <td>29010.0</td>\n",
       "      <td>1.0</td>\n",
       "      <td>No</td>\n",
       "      <td>NaN</td>\n",
       "      <td>NaN</td>\n",
       "      <td>NaT</td>\n",
       "      <td>NaN</td>\n",
       "      <td>NaN</td>\n",
       "      <td>NaN</td>\n",
       "      <td>0.0</td>\n",
       "    </tr>\n",
       "  </tbody>\n",
       "</table>\n",
       "<p>196 rows × 17 columns</p>\n",
       "</div>"
      ],
      "text/plain": [
       "      claim_id  customer_id      incident_cause claim_date claim_area  \\\n",
       "5     24050443     21831191  Other driver error 2017-10-04       Auto   \n",
       "14    67257404     18288638  Other driver error 2018-04-24       Auto   \n",
       "17     7809917     63916778        Other causes 2017-07-22       Auto   \n",
       "18    29205389     17004138      Natural causes 2017-06-25       Auto   \n",
       "19    19051665      9667764        Other causes 2017-12-17       Auto   \n",
       "...        ...          ...                 ...        ...        ...   \n",
       "1064  56358443     75934330      Natural causes 2017-01-01       Auto   \n",
       "1072  50800999     51669975        Other causes 2018-09-19       Home   \n",
       "1074  36599575     87596868        Driver error 2018-10-09       Auto   \n",
       "1082  22690595     19888166  Other driver error 2017-05-15       Auto   \n",
       "1087  45052103     55466148        Driver error 2017-12-03       Auto   \n",
       "\n",
       "     police_report   claim_type  claim_amount  total_policy_claims fraudulent  \\\n",
       "5               No  Injury only       38306.5                  3.0        Yes   \n",
       "14             Yes  Injury only       32560.0                  1.0         No   \n",
       "17              No  Injury only       17800.0                  1.0         No   \n",
       "18              No  Injury only       31380.0                  1.0         No   \n",
       "19             Yes  Injury only       36190.0                  1.0         No   \n",
       "...            ...          ...           ...                  ...        ...   \n",
       "1064           Yes  Injury only       20630.0                  1.0         No   \n",
       "1072           Yes  Injury only       38950.0                  1.0         No   \n",
       "1074       Unknown  Injury only       33330.0                  2.0         No   \n",
       "1082           Yes  Injury only       33080.0                  2.0         No   \n",
       "1087            No  Injury only       29010.0                  1.0         No   \n",
       "\n",
       "         CUST_ID  gender DateOfBirth State       Contact   Segment  flag  \n",
       "5     21831191.0    Male  1977-05-17    NH  419-712-8513      Gold   0.0  \n",
       "14    18288638.0  Female  2069-01-14    MI  314-135-1359  Platinum   1.0  \n",
       "17    63916778.0    Male  2066-09-07    IL  146-157-4572  Platinum   0.0  \n",
       "18    17004138.0  Female  2065-08-13    WA  436-354-4682    Silver   0.0  \n",
       "19     9667764.0  Female  1979-10-10    SC  643-978-8251  Platinum   1.0  \n",
       "...          ...     ...         ...   ...           ...       ...   ...  \n",
       "1064  75934330.0  Female  1987-10-09    ME  951-941-3975  Platinum   1.0  \n",
       "1072  51669975.0  Female  1988-02-05    ND  975-463-9541    Silver   1.0  \n",
       "1074  87596868.0    Male  2061-11-18    AZ  573-396-3182    Silver   NaN  \n",
       "1082  19888166.0    Male  1990-04-11    WI  712-651-9613      Gold   1.0  \n",
       "1087         NaN     NaN         NaT   NaN           NaN       NaN   0.0  \n",
       "\n",
       "[196 rows x 17 columns]"
      ]
     },
     "execution_count": 19,
     "metadata": {},
     "output_type": "execute_result"
    }
   ],
   "source": [
    "cust_360_unreported"
   ]
  },
  {
   "cell_type": "markdown",
   "id": "9098ee35",
   "metadata": {},
   "source": [
    "## 5. One customer can claim for insurance more than once and in each claim, multiple categories of claims can be involved. However, customer ID should remain unique. Retain the most recent observation and delete any duplicated records in the data based on the customer ID column"
   ]
  },
  {
   "cell_type": "code",
   "execution_count": 20,
   "id": "03e3cdbc",
   "metadata": {},
   "outputs": [
    {
     "data": {
      "text/html": [
       "<div>\n",
       "<style scoped>\n",
       "    .dataframe tbody tr th:only-of-type {\n",
       "        vertical-align: middle;\n",
       "    }\n",
       "\n",
       "    .dataframe tbody tr th {\n",
       "        vertical-align: top;\n",
       "    }\n",
       "\n",
       "    .dataframe thead th {\n",
       "        text-align: right;\n",
       "    }\n",
       "</style>\n",
       "<table border=\"1\" class=\"dataframe\">\n",
       "  <thead>\n",
       "    <tr style=\"text-align: right;\">\n",
       "      <th></th>\n",
       "      <th>claim_id</th>\n",
       "      <th>customer_id</th>\n",
       "      <th>incident_cause</th>\n",
       "      <th>claim_date</th>\n",
       "      <th>claim_area</th>\n",
       "      <th>police_report</th>\n",
       "      <th>claim_type</th>\n",
       "      <th>claim_amount</th>\n",
       "      <th>total_policy_claims</th>\n",
       "      <th>fraudulent</th>\n",
       "      <th>CUST_ID</th>\n",
       "      <th>gender</th>\n",
       "      <th>DateOfBirth</th>\n",
       "      <th>State</th>\n",
       "      <th>Contact</th>\n",
       "      <th>Segment</th>\n",
       "    </tr>\n",
       "  </thead>\n",
       "  <tbody>\n",
       "    <tr>\n",
       "      <th>620</th>\n",
       "      <td>78221963</td>\n",
       "      <td>84147585</td>\n",
       "      <td>Driver error</td>\n",
       "      <td>2018-04-10</td>\n",
       "      <td>Auto</td>\n",
       "      <td>Yes</td>\n",
       "      <td>Injury only</td>\n",
       "      <td>14430.0</td>\n",
       "      <td>4.0</td>\n",
       "      <td>No</td>\n",
       "      <td>84147585.0</td>\n",
       "      <td>Male</td>\n",
       "      <td>1972-10-18</td>\n",
       "      <td>AK</td>\n",
       "      <td>743-569-4783</td>\n",
       "      <td>Gold</td>\n",
       "    </tr>\n",
       "    <tr>\n",
       "      <th>621</th>\n",
       "      <td>1654201</td>\n",
       "      <td>85357756</td>\n",
       "      <td>Driver error</td>\n",
       "      <td>2018-06-23</td>\n",
       "      <td>Auto</td>\n",
       "      <td>Unknown</td>\n",
       "      <td>Material only</td>\n",
       "      <td>2510.0</td>\n",
       "      <td>1.0</td>\n",
       "      <td>No</td>\n",
       "      <td>85357756.0</td>\n",
       "      <td>Male</td>\n",
       "      <td>2070-01-02</td>\n",
       "      <td>PA</td>\n",
       "      <td>915-698-3649</td>\n",
       "      <td>Platinum</td>\n",
       "    </tr>\n",
       "    <tr>\n",
       "      <th>622</th>\n",
       "      <td>41779510</td>\n",
       "      <td>53539195</td>\n",
       "      <td>Driver error</td>\n",
       "      <td>2018-10-03</td>\n",
       "      <td>Home</td>\n",
       "      <td>No</td>\n",
       "      <td>Injury only</td>\n",
       "      <td>25040.0</td>\n",
       "      <td>1.0</td>\n",
       "      <td>No</td>\n",
       "      <td>53539195.0</td>\n",
       "      <td>Male</td>\n",
       "      <td>1989-10-02</td>\n",
       "      <td>NV</td>\n",
       "      <td>914-342-8239</td>\n",
       "      <td>Gold</td>\n",
       "    </tr>\n",
       "    <tr>\n",
       "      <th>623</th>\n",
       "      <td>47786788</td>\n",
       "      <td>47153140</td>\n",
       "      <td>Natural causes</td>\n",
       "      <td>2017-10-24</td>\n",
       "      <td>Auto</td>\n",
       "      <td>No</td>\n",
       "      <td>Material only</td>\n",
       "      <td>1700.0</td>\n",
       "      <td>1.0</td>\n",
       "      <td>No</td>\n",
       "      <td>47153140.0</td>\n",
       "      <td>Male</td>\n",
       "      <td>1990-07-22</td>\n",
       "      <td>ID</td>\n",
       "      <td>738-413-2418</td>\n",
       "      <td>Platinum</td>\n",
       "    </tr>\n",
       "    <tr>\n",
       "      <th>624</th>\n",
       "      <td>2725264</td>\n",
       "      <td>34369658</td>\n",
       "      <td>Other causes</td>\n",
       "      <td>2017-05-22</td>\n",
       "      <td>Auto</td>\n",
       "      <td>No</td>\n",
       "      <td>Material only</td>\n",
       "      <td>2330.0</td>\n",
       "      <td>1.0</td>\n",
       "      <td>No</td>\n",
       "      <td>34369658.0</td>\n",
       "      <td>Female</td>\n",
       "      <td>1985-08-05</td>\n",
       "      <td>IN</td>\n",
       "      <td>897-847-6547</td>\n",
       "      <td>Gold</td>\n",
       "    </tr>\n",
       "    <tr>\n",
       "      <th>625</th>\n",
       "      <td>7384147</td>\n",
       "      <td>14477985</td>\n",
       "      <td>Natural causes</td>\n",
       "      <td>2017-05-02</td>\n",
       "      <td>Auto</td>\n",
       "      <td>Unknown</td>\n",
       "      <td>Injury only</td>\n",
       "      <td>13100.0</td>\n",
       "      <td>5.0</td>\n",
       "      <td>No</td>\n",
       "      <td>14477985.0</td>\n",
       "      <td>Male</td>\n",
       "      <td>1998-07-09</td>\n",
       "      <td>NE</td>\n",
       "      <td>496-361-3285</td>\n",
       "      <td>Silver</td>\n",
       "    </tr>\n",
       "    <tr>\n",
       "      <th>626</th>\n",
       "      <td>36174594</td>\n",
       "      <td>66521317</td>\n",
       "      <td>Natural causes</td>\n",
       "      <td>2017-03-16</td>\n",
       "      <td>Auto</td>\n",
       "      <td>No</td>\n",
       "      <td>Material only</td>\n",
       "      <td>NaN</td>\n",
       "      <td>1.0</td>\n",
       "      <td>No</td>\n",
       "      <td>66521317.0</td>\n",
       "      <td>Male</td>\n",
       "      <td>1991-09-03</td>\n",
       "      <td>SD</td>\n",
       "      <td>519-549-9375</td>\n",
       "      <td>Silver</td>\n",
       "    </tr>\n",
       "    <tr>\n",
       "      <th>627</th>\n",
       "      <td>91772998</td>\n",
       "      <td>9081086</td>\n",
       "      <td>Driver error</td>\n",
       "      <td>2018-04-24</td>\n",
       "      <td>Auto</td>\n",
       "      <td>Yes</td>\n",
       "      <td>Injury only</td>\n",
       "      <td>34470.0</td>\n",
       "      <td>1.0</td>\n",
       "      <td>No</td>\n",
       "      <td>9081086.0</td>\n",
       "      <td>Male</td>\n",
       "      <td>1976-08-06</td>\n",
       "      <td>WA</td>\n",
       "      <td>254-273-2185</td>\n",
       "      <td>Silver</td>\n",
       "    </tr>\n",
       "    <tr>\n",
       "      <th>628</th>\n",
       "      <td>8216191</td>\n",
       "      <td>47237571</td>\n",
       "      <td>Other causes</td>\n",
       "      <td>2018-08-16</td>\n",
       "      <td>Home</td>\n",
       "      <td>No</td>\n",
       "      <td>Material and injury</td>\n",
       "      <td>40930.0</td>\n",
       "      <td>1.0</td>\n",
       "      <td>No</td>\n",
       "      <td>47237571.0</td>\n",
       "      <td>Female</td>\n",
       "      <td>1984-11-14</td>\n",
       "      <td>MI</td>\n",
       "      <td>982-854-4365</td>\n",
       "      <td>Platinum</td>\n",
       "    </tr>\n",
       "    <tr>\n",
       "      <th>629</th>\n",
       "      <td>63017412</td>\n",
       "      <td>30308357</td>\n",
       "      <td>Driver error</td>\n",
       "      <td>2018-04-04</td>\n",
       "      <td>Auto</td>\n",
       "      <td>No</td>\n",
       "      <td>Material only</td>\n",
       "      <td>1950.0</td>\n",
       "      <td>6.0</td>\n",
       "      <td>No</td>\n",
       "      <td>30308357.0</td>\n",
       "      <td>Female</td>\n",
       "      <td>1984-03-11</td>\n",
       "      <td>TN</td>\n",
       "      <td>798-631-4758</td>\n",
       "      <td>Silver</td>\n",
       "    </tr>\n",
       "  </tbody>\n",
       "</table>\n",
       "</div>"
      ],
      "text/plain": [
       "     claim_id  customer_id  incident_cause claim_date claim_area  \\\n",
       "620  78221963     84147585    Driver error 2018-04-10       Auto   \n",
       "621   1654201     85357756    Driver error 2018-06-23       Auto   \n",
       "622  41779510     53539195    Driver error 2018-10-03       Home   \n",
       "623  47786788     47153140  Natural causes 2017-10-24       Auto   \n",
       "624   2725264     34369658    Other causes 2017-05-22       Auto   \n",
       "625   7384147     14477985  Natural causes 2017-05-02       Auto   \n",
       "626  36174594     66521317  Natural causes 2017-03-16       Auto   \n",
       "627  91772998      9081086    Driver error 2018-04-24       Auto   \n",
       "628   8216191     47237571    Other causes 2018-08-16       Home   \n",
       "629  63017412     30308357    Driver error 2018-04-04       Auto   \n",
       "\n",
       "    police_report           claim_type  claim_amount  total_policy_claims  \\\n",
       "620           Yes          Injury only       14430.0                  4.0   \n",
       "621       Unknown        Material only        2510.0                  1.0   \n",
       "622            No          Injury only       25040.0                  1.0   \n",
       "623            No        Material only        1700.0                  1.0   \n",
       "624            No        Material only        2330.0                  1.0   \n",
       "625       Unknown          Injury only       13100.0                  5.0   \n",
       "626            No        Material only           NaN                  1.0   \n",
       "627           Yes          Injury only       34470.0                  1.0   \n",
       "628            No  Material and injury       40930.0                  1.0   \n",
       "629            No        Material only        1950.0                  6.0   \n",
       "\n",
       "    fraudulent     CUST_ID  gender DateOfBirth State       Contact   Segment  \n",
       "620         No  84147585.0    Male  1972-10-18    AK  743-569-4783      Gold  \n",
       "621         No  85357756.0    Male  2070-01-02    PA  915-698-3649  Platinum  \n",
       "622         No  53539195.0    Male  1989-10-02    NV  914-342-8239      Gold  \n",
       "623         No  47153140.0    Male  1990-07-22    ID  738-413-2418  Platinum  \n",
       "624         No  34369658.0  Female  1985-08-05    IN  897-847-6547      Gold  \n",
       "625         No  14477985.0    Male  1998-07-09    NE  496-361-3285    Silver  \n",
       "626         No  66521317.0    Male  1991-09-03    SD  519-549-9375    Silver  \n",
       "627         No   9081086.0    Male  1976-08-06    WA  254-273-2185    Silver  \n",
       "628         No  47237571.0  Female  1984-11-14    MI  982-854-4365  Platinum  \n",
       "629         No  30308357.0  Female  1984-03-11    TN  798-631-4758    Silver  "
      ]
     },
     "execution_count": 20,
     "metadata": {},
     "output_type": "execute_result"
    }
   ],
   "source": [
    "cust_360.iloc[620:630]"
   ]
  },
  {
   "cell_type": "code",
   "execution_count": 21,
   "id": "452515fa",
   "metadata": {},
   "outputs": [],
   "source": [
    "cust_360.isna().sum()\n",
    "cust_360_non_null=cust_360"
   ]
  },
  {
   "cell_type": "code",
   "execution_count": 24,
   "id": "2e0b322c",
   "metadata": {},
   "outputs": [
    {
     "data": {
      "text/plain": [
       "claim_id               0\n",
       "customer_id            0\n",
       "incident_cause         0\n",
       "claim_date             0\n",
       "claim_area             0\n",
       "police_report          0\n",
       "claim_type             0\n",
       "claim_amount           0\n",
       "total_policy_claims    0\n",
       "fraudulent             0\n",
       "CUST_ID                0\n",
       "gender                 0\n",
       "DateOfBirth            0\n",
       "State                  0\n",
       "Contact                0\n",
       "Segment                0\n",
       "dtype: int64"
      ]
     },
     "execution_count": 24,
     "metadata": {},
     "output_type": "execute_result"
    }
   ],
   "source": [
    "cat_col=['total_policy_claims','CUST_ID','gender','DateOfBirth','State','Contact','Segment']\n",
    "con_col=[\"claim_amount\"]\n",
    "for col in cat_col:\n",
    "    cust_360[col]=cust_360[col].fillna(cust_360[col].mode()[0])\n",
    "cust_360[con_col]=cust_360[con_col].fillna(cust_360[con_col].mean())\n",
    "cust_360.isna().sum()"
   ]
  },
  {
   "cell_type": "markdown",
   "id": "d3b615a2",
   "metadata": {},
   "source": [
    "## 7. Calculate the age of customers in years. Based on the age, categorize the customers according to the below criteria Children < 18 Youth 18-30 Adult 30-60 Senior > 60"
   ]
  },
  {
   "cell_type": "code",
   "execution_count": 25,
   "id": "05b30d8c",
   "metadata": {},
   "outputs": [
    {
     "data": {
      "text/html": [
       "<div>\n",
       "<style scoped>\n",
       "    .dataframe tbody tr th:only-of-type {\n",
       "        vertical-align: middle;\n",
       "    }\n",
       "\n",
       "    .dataframe tbody tr th {\n",
       "        vertical-align: top;\n",
       "    }\n",
       "\n",
       "    .dataframe thead th {\n",
       "        text-align: right;\n",
       "    }\n",
       "</style>\n",
       "<table border=\"1\" class=\"dataframe\">\n",
       "  <thead>\n",
       "    <tr style=\"text-align: right;\">\n",
       "      <th></th>\n",
       "      <th>claim_id</th>\n",
       "      <th>customer_id</th>\n",
       "      <th>incident_cause</th>\n",
       "      <th>claim_date</th>\n",
       "      <th>claim_area</th>\n",
       "      <th>police_report</th>\n",
       "      <th>claim_type</th>\n",
       "      <th>claim_amount</th>\n",
       "      <th>total_policy_claims</th>\n",
       "      <th>fraudulent</th>\n",
       "      <th>CUST_ID</th>\n",
       "      <th>gender</th>\n",
       "      <th>DateOfBirth</th>\n",
       "      <th>State</th>\n",
       "      <th>Contact</th>\n",
       "      <th>Segment</th>\n",
       "      <th>age</th>\n",
       "      <th>cat</th>\n",
       "    </tr>\n",
       "  </thead>\n",
       "  <tbody>\n",
       "    <tr>\n",
       "      <th>0</th>\n",
       "      <td>54004764</td>\n",
       "      <td>21868593</td>\n",
       "      <td>Driver error</td>\n",
       "      <td>2017-11-27</td>\n",
       "      <td>Auto</td>\n",
       "      <td>No</td>\n",
       "      <td>Material only</td>\n",
       "      <td>2980.0</td>\n",
       "      <td>1.0</td>\n",
       "      <td>No</td>\n",
       "      <td>21868593.0</td>\n",
       "      <td>Female</td>\n",
       "      <td>1979-01-12</td>\n",
       "      <td>VT</td>\n",
       "      <td>789-916-8172</td>\n",
       "      <td>Platinum</td>\n",
       "      <td>38</td>\n",
       "      <td>Adult</td>\n",
       "    </tr>\n",
       "    <tr>\n",
       "      <th>1</th>\n",
       "      <td>33985796</td>\n",
       "      <td>75740424</td>\n",
       "      <td>Crime</td>\n",
       "      <td>2018-10-03</td>\n",
       "      <td>Home</td>\n",
       "      <td>Unknown</td>\n",
       "      <td>Material only</td>\n",
       "      <td>2980.0</td>\n",
       "      <td>3.0</td>\n",
       "      <td>No</td>\n",
       "      <td>75740424.0</td>\n",
       "      <td>Female</td>\n",
       "      <td>2070-01-13</td>\n",
       "      <td>ME</td>\n",
       "      <td>265-543-1264</td>\n",
       "      <td>Silver</td>\n",
       "      <td>-52</td>\n",
       "      <td>children</td>\n",
       "    </tr>\n",
       "    <tr>\n",
       "      <th>2</th>\n",
       "      <td>53522022</td>\n",
       "      <td>30308357</td>\n",
       "      <td>Other driver error</td>\n",
       "      <td>2018-02-02</td>\n",
       "      <td>Auto</td>\n",
       "      <td>No</td>\n",
       "      <td>Material only</td>\n",
       "      <td>3369.5</td>\n",
       "      <td>1.0</td>\n",
       "      <td>Yes</td>\n",
       "      <td>30308357.0</td>\n",
       "      <td>Female</td>\n",
       "      <td>1984-03-11</td>\n",
       "      <td>TN</td>\n",
       "      <td>798-631-4758</td>\n",
       "      <td>Silver</td>\n",
       "      <td>34</td>\n",
       "      <td>Adult</td>\n",
       "    </tr>\n",
       "    <tr>\n",
       "      <th>3</th>\n",
       "      <td>13015401</td>\n",
       "      <td>47830476</td>\n",
       "      <td>Natural causes</td>\n",
       "      <td>2018-06-17</td>\n",
       "      <td>Auto</td>\n",
       "      <td>No</td>\n",
       "      <td>Material only</td>\n",
       "      <td>1680.0</td>\n",
       "      <td>1.0</td>\n",
       "      <td>No</td>\n",
       "      <td>47830476.0</td>\n",
       "      <td>Female</td>\n",
       "      <td>1986-05-01</td>\n",
       "      <td>MA</td>\n",
       "      <td>413-187-7945</td>\n",
       "      <td>Silver</td>\n",
       "      <td>32</td>\n",
       "      <td>Adult</td>\n",
       "    </tr>\n",
       "    <tr>\n",
       "      <th>4</th>\n",
       "      <td>22890252</td>\n",
       "      <td>19269962</td>\n",
       "      <td>Crime</td>\n",
       "      <td>2018-01-13</td>\n",
       "      <td>Auto</td>\n",
       "      <td>No</td>\n",
       "      <td>Material only</td>\n",
       "      <td>2680.0</td>\n",
       "      <td>1.0</td>\n",
       "      <td>No</td>\n",
       "      <td>19269962.0</td>\n",
       "      <td>Male</td>\n",
       "      <td>1977-05-13</td>\n",
       "      <td>NV</td>\n",
       "      <td>956-871-8691</td>\n",
       "      <td>Gold</td>\n",
       "      <td>41</td>\n",
       "      <td>Adult</td>\n",
       "    </tr>\n",
       "    <tr>\n",
       "      <th>...</th>\n",
       "      <td>...</td>\n",
       "      <td>...</td>\n",
       "      <td>...</td>\n",
       "      <td>...</td>\n",
       "      <td>...</td>\n",
       "      <td>...</td>\n",
       "      <td>...</td>\n",
       "      <td>...</td>\n",
       "      <td>...</td>\n",
       "      <td>...</td>\n",
       "      <td>...</td>\n",
       "      <td>...</td>\n",
       "      <td>...</td>\n",
       "      <td>...</td>\n",
       "      <td>...</td>\n",
       "      <td>...</td>\n",
       "      <td>...</td>\n",
       "      <td>...</td>\n",
       "    </tr>\n",
       "    <tr>\n",
       "      <th>1095</th>\n",
       "      <td>97727122</td>\n",
       "      <td>35951012</td>\n",
       "      <td>Other driver error</td>\n",
       "      <td>2017-06-11</td>\n",
       "      <td>Auto</td>\n",
       "      <td>No</td>\n",
       "      <td>Material only</td>\n",
       "      <td>3059.0</td>\n",
       "      <td>4.0</td>\n",
       "      <td>Yes</td>\n",
       "      <td>19269962.0</td>\n",
       "      <td>Male</td>\n",
       "      <td>1972-10-18</td>\n",
       "      <td>NY</td>\n",
       "      <td>413-187-7945</td>\n",
       "      <td>Gold</td>\n",
       "      <td>45</td>\n",
       "      <td>Adult</td>\n",
       "    </tr>\n",
       "    <tr>\n",
       "      <th>1096</th>\n",
       "      <td>10247193</td>\n",
       "      <td>14818669</td>\n",
       "      <td>Natural causes</td>\n",
       "      <td>2018-03-14</td>\n",
       "      <td>Auto</td>\n",
       "      <td>No</td>\n",
       "      <td>Material only</td>\n",
       "      <td>1520.0</td>\n",
       "      <td>2.0</td>\n",
       "      <td>No</td>\n",
       "      <td>19269962.0</td>\n",
       "      <td>Male</td>\n",
       "      <td>1972-10-18</td>\n",
       "      <td>NY</td>\n",
       "      <td>413-187-7945</td>\n",
       "      <td>Gold</td>\n",
       "      <td>46</td>\n",
       "      <td>Adult</td>\n",
       "    </tr>\n",
       "    <tr>\n",
       "      <th>1097</th>\n",
       "      <td>79807493</td>\n",
       "      <td>85322831</td>\n",
       "      <td>Other driver error</td>\n",
       "      <td>2018-02-09</td>\n",
       "      <td>Auto</td>\n",
       "      <td>No</td>\n",
       "      <td>Material and injury</td>\n",
       "      <td>23575.0</td>\n",
       "      <td>2.0</td>\n",
       "      <td>Yes</td>\n",
       "      <td>19269962.0</td>\n",
       "      <td>Male</td>\n",
       "      <td>1972-10-18</td>\n",
       "      <td>NY</td>\n",
       "      <td>413-187-7945</td>\n",
       "      <td>Gold</td>\n",
       "      <td>46</td>\n",
       "      <td>Adult</td>\n",
       "    </tr>\n",
       "    <tr>\n",
       "      <th>1098</th>\n",
       "      <td>69299345</td>\n",
       "      <td>73449366</td>\n",
       "      <td>Other causes</td>\n",
       "      <td>2018-03-21</td>\n",
       "      <td>Auto</td>\n",
       "      <td>Unknown</td>\n",
       "      <td>Material and injury</td>\n",
       "      <td>25120.0</td>\n",
       "      <td>1.0</td>\n",
       "      <td>No</td>\n",
       "      <td>19269962.0</td>\n",
       "      <td>Male</td>\n",
       "      <td>1972-10-18</td>\n",
       "      <td>NY</td>\n",
       "      <td>413-187-7945</td>\n",
       "      <td>Gold</td>\n",
       "      <td>46</td>\n",
       "      <td>Adult</td>\n",
       "    </tr>\n",
       "    <tr>\n",
       "      <th>1099</th>\n",
       "      <td>58809728</td>\n",
       "      <td>43020876</td>\n",
       "      <td>Other driver error</td>\n",
       "      <td>2017-06-04</td>\n",
       "      <td>Auto</td>\n",
       "      <td>Yes</td>\n",
       "      <td>Material and injury</td>\n",
       "      <td>36685.0</td>\n",
       "      <td>3.0</td>\n",
       "      <td>Yes</td>\n",
       "      <td>19269962.0</td>\n",
       "      <td>Male</td>\n",
       "      <td>1972-10-18</td>\n",
       "      <td>NY</td>\n",
       "      <td>413-187-7945</td>\n",
       "      <td>Gold</td>\n",
       "      <td>45</td>\n",
       "      <td>Adult</td>\n",
       "    </tr>\n",
       "  </tbody>\n",
       "</table>\n",
       "<p>1100 rows × 18 columns</p>\n",
       "</div>"
      ],
      "text/plain": [
       "      claim_id  customer_id      incident_cause claim_date claim_area  \\\n",
       "0     54004764     21868593        Driver error 2017-11-27       Auto   \n",
       "1     33985796     75740424               Crime 2018-10-03       Home   \n",
       "2     53522022     30308357  Other driver error 2018-02-02       Auto   \n",
       "3     13015401     47830476      Natural causes 2018-06-17       Auto   \n",
       "4     22890252     19269962               Crime 2018-01-13       Auto   \n",
       "...        ...          ...                 ...        ...        ...   \n",
       "1095  97727122     35951012  Other driver error 2017-06-11       Auto   \n",
       "1096  10247193     14818669      Natural causes 2018-03-14       Auto   \n",
       "1097  79807493     85322831  Other driver error 2018-02-09       Auto   \n",
       "1098  69299345     73449366        Other causes 2018-03-21       Auto   \n",
       "1099  58809728     43020876  Other driver error 2017-06-04       Auto   \n",
       "\n",
       "     police_report           claim_type  claim_amount  total_policy_claims  \\\n",
       "0               No        Material only        2980.0                  1.0   \n",
       "1          Unknown        Material only        2980.0                  3.0   \n",
       "2               No        Material only        3369.5                  1.0   \n",
       "3               No        Material only        1680.0                  1.0   \n",
       "4               No        Material only        2680.0                  1.0   \n",
       "...            ...                  ...           ...                  ...   \n",
       "1095            No        Material only        3059.0                  4.0   \n",
       "1096            No        Material only        1520.0                  2.0   \n",
       "1097            No  Material and injury       23575.0                  2.0   \n",
       "1098       Unknown  Material and injury       25120.0                  1.0   \n",
       "1099           Yes  Material and injury       36685.0                  3.0   \n",
       "\n",
       "     fraudulent     CUST_ID  gender DateOfBirth State       Contact   Segment  \\\n",
       "0            No  21868593.0  Female  1979-01-12    VT  789-916-8172  Platinum   \n",
       "1            No  75740424.0  Female  2070-01-13    ME  265-543-1264    Silver   \n",
       "2           Yes  30308357.0  Female  1984-03-11    TN  798-631-4758    Silver   \n",
       "3            No  47830476.0  Female  1986-05-01    MA  413-187-7945    Silver   \n",
       "4            No  19269962.0    Male  1977-05-13    NV  956-871-8691      Gold   \n",
       "...         ...         ...     ...         ...   ...           ...       ...   \n",
       "1095        Yes  19269962.0    Male  1972-10-18    NY  413-187-7945      Gold   \n",
       "1096         No  19269962.0    Male  1972-10-18    NY  413-187-7945      Gold   \n",
       "1097        Yes  19269962.0    Male  1972-10-18    NY  413-187-7945      Gold   \n",
       "1098         No  19269962.0    Male  1972-10-18    NY  413-187-7945      Gold   \n",
       "1099        Yes  19269962.0    Male  1972-10-18    NY  413-187-7945      Gold   \n",
       "\n",
       "      age       cat  \n",
       "0      38     Adult  \n",
       "1     -52  children  \n",
       "2      34     Adult  \n",
       "3      32     Adult  \n",
       "4      41     Adult  \n",
       "...   ...       ...  \n",
       "1095   45     Adult  \n",
       "1096   46     Adult  \n",
       "1097   46     Adult  \n",
       "1098   46     Adult  \n",
       "1099   45     Adult  \n",
       "\n",
       "[1100 rows x 18 columns]"
      ]
     },
     "execution_count": 25,
     "metadata": {},
     "output_type": "execute_result"
    }
   ],
   "source": [
    "cust_360[\"age\"]=cust_360[\"claim_date\"].dt.year-cust_360[\"DateOfBirth\"].dt.year\n",
    "cust_360\n",
    "cust_360[\"cat\"]=np.where(cust_360[\"age\"]<18,\"children\",(np.where(cust_360[\"age\"]<30,\"youth\",(np.where(cust_360[\"age\"]<60,\"Adult\", \"Senior\")))))\n",
    "cust_360"
   ]
  },
  {
   "cell_type": "markdown",
   "id": "73522449",
   "metadata": {},
   "source": [
    "## 8. What is the average amount claimed by the customers from various segments?"
   ]
  },
  {
   "cell_type": "code",
   "execution_count": 30,
   "id": "cc8c5640",
   "metadata": {},
   "outputs": [
    {
     "data": {
      "text/html": [
       "<div>\n",
       "<style scoped>\n",
       "    .dataframe tbody tr th:only-of-type {\n",
       "        vertical-align: middle;\n",
       "    }\n",
       "\n",
       "    .dataframe tbody tr th {\n",
       "        vertical-align: top;\n",
       "    }\n",
       "\n",
       "    .dataframe thead th {\n",
       "        text-align: right;\n",
       "    }\n",
       "</style>\n",
       "<table border=\"1\" class=\"dataframe\">\n",
       "  <thead>\n",
       "    <tr style=\"text-align: right;\">\n",
       "      <th></th>\n",
       "      <th>claim_amount</th>\n",
       "    </tr>\n",
       "    <tr>\n",
       "      <th>Segment</th>\n",
       "      <th></th>\n",
       "    </tr>\n",
       "  </thead>\n",
       "  <tbody>\n",
       "    <tr>\n",
       "      <th>Gold</th>\n",
       "      <td>12746.446802</td>\n",
       "    </tr>\n",
       "    <tr>\n",
       "      <th>Platinum</th>\n",
       "      <td>12340.893306</td>\n",
       "    </tr>\n",
       "    <tr>\n",
       "      <th>Silver</th>\n",
       "      <td>12206.379320</td>\n",
       "    </tr>\n",
       "  </tbody>\n",
       "</table>\n",
       "</div>"
      ],
      "text/plain": [
       "          claim_amount\n",
       "Segment               \n",
       "Gold      12746.446802\n",
       "Platinum  12340.893306\n",
       "Silver    12206.379320"
      ]
     },
     "execution_count": 30,
     "metadata": {},
     "output_type": "execute_result"
    }
   ],
   "source": [
    "cust_360.groupby(by=\"Segment\")[[\"claim_amount\"]].mean()"
   ]
  },
  {
   "cell_type": "markdown",
   "id": "82501418",
   "metadata": {},
   "source": [
    "## 9. What is the total claim amount based on incident cause for all the claims that have been done at least 20 days prior to 1st of October, 2018."
   ]
  },
  {
   "cell_type": "code",
   "execution_count": 32,
   "id": "e432b562",
   "metadata": {},
   "outputs": [
    {
     "data": {
      "text/html": [
       "<div>\n",
       "<style scoped>\n",
       "    .dataframe tbody tr th:only-of-type {\n",
       "        vertical-align: middle;\n",
       "    }\n",
       "\n",
       "    .dataframe tbody tr th {\n",
       "        vertical-align: top;\n",
       "    }\n",
       "\n",
       "    .dataframe thead th {\n",
       "        text-align: right;\n",
       "    }\n",
       "</style>\n",
       "<table border=\"1\" class=\"dataframe\">\n",
       "  <thead>\n",
       "    <tr style=\"text-align: right;\">\n",
       "      <th></th>\n",
       "      <th>claim_amount</th>\n",
       "    </tr>\n",
       "    <tr>\n",
       "      <th>incident_cause</th>\n",
       "      <th></th>\n",
       "    </tr>\n",
       "  </thead>\n",
       "  <tbody>\n",
       "    <tr>\n",
       "      <th>Crime</th>\n",
       "      <td>6840.000000</td>\n",
       "    </tr>\n",
       "    <tr>\n",
       "      <th>Driver error</th>\n",
       "      <td>14572.125121</td>\n",
       "    </tr>\n",
       "    <tr>\n",
       "      <th>Natural causes</th>\n",
       "      <td>8418.000000</td>\n",
       "    </tr>\n",
       "    <tr>\n",
       "      <th>Other causes</th>\n",
       "      <td>247198.125121</td>\n",
       "    </tr>\n",
       "    <tr>\n",
       "      <th>Other driver error</th>\n",
       "      <td>47599.500000</td>\n",
       "    </tr>\n",
       "  </tbody>\n",
       "</table>\n",
       "</div>"
      ],
      "text/plain": [
       "                     claim_amount\n",
       "incident_cause                   \n",
       "Crime                 6840.000000\n",
       "Driver error         14572.125121\n",
       "Natural causes        8418.000000\n",
       "Other causes        247198.125121\n",
       "Other driver error   47599.500000"
      ]
     },
     "execution_count": 32,
     "metadata": {},
     "output_type": "execute_result"
    }
   ],
   "source": [
    "total_claim=cust_360[(cust_360[\"claim_date\"]>\"2018-09-10\") & (cust_360[\"claim_date\"]<\"2018-10-1\")]\n",
    "total_claim.groupby(by=\"incident_cause\")[[\"claim_amount\"]].sum()"
   ]
  },
  {
   "cell_type": "markdown",
   "id": "87206bea",
   "metadata": {},
   "source": [
    "## 10. How many adults from TX, DE and AK claimed insurance for driver related issues and causes?"
   ]
  },
  {
   "cell_type": "code",
   "execution_count": 33,
   "id": "6d2157c2",
   "metadata": {},
   "outputs": [
    {
     "data": {
      "text/plain": [
       "claim_id               17\n",
       "customer_id            17\n",
       "incident_cause         17\n",
       "claim_date             17\n",
       "claim_area             17\n",
       "police_report          17\n",
       "claim_type             17\n",
       "claim_amount           17\n",
       "total_policy_claims    17\n",
       "fraudulent             17\n",
       "CUST_ID                17\n",
       "gender                 17\n",
       "DateOfBirth            17\n",
       "State                  17\n",
       "Contact                17\n",
       "Segment                17\n",
       "age                    17\n",
       "cat                    17\n",
       "dtype: int64"
      ]
     },
     "execution_count": 33,
     "metadata": {},
     "output_type": "execute_result"
    }
   ],
   "source": [
    "TX_DE_AK=cust_360[(cust_360[\"State\"]==\"TX\") | (cust_360[\"State\"]==\"DE\") | (cust_360[\"State\"]==\"AK\")]\n",
    "adult=TX_DE_AK[TX_DE_AK[\"cat\"]==\"Adult\"]\n",
    "adult[(adult[\"incident_cause\"]==\"Driver error\" )| (adult[\"incident_cause\"]==\"Other driver error\")].count()"
   ]
  },
  {
   "cell_type": "markdown",
   "id": "a49c1e0d",
   "metadata": {},
   "source": [
    "## 11. Draw a pie chart between the aggregated value of claim amount based on gender and segment. Represent the claim amount as a percentage on the pie chart."
   ]
  },
  {
   "cell_type": "code",
   "execution_count": 40,
   "id": "a3131fc5",
   "metadata": {},
   "outputs": [
    {
     "data": {
      "image/png": "[encoded data removed]",
      "text/plain": [
       "<Figure size 864x648 with 1 Axes>"
      ]
     },
     "metadata": {},
     "output_type": "display_data"
    }
   ],
   "source": [
    "clam_pie=cust_360.groupby(by=[\"Segment\",\"gender\"])[[\"claim_amount\"]].sum()\n",
    "clam_pie.plot(kind=\"pie\",subplots=True,autopct=\"%3.2f\",figsize=[12,9])\n",
    "plt.show()"
   ]
  },
  {
   "cell_type": "markdown",
   "id": "2b9fa921",
   "metadata": {},
   "source": [
    "## 12. Among males and females, which gender had claimed the most for any type of driver related issues? E.g. This metric can be compared using a bar chart"
   ]
  },
  {
   "cell_type": "code",
   "execution_count": 43,
   "id": "4e7ec159",
   "metadata": {},
   "outputs": [
    {
     "data": {
      "image/png": "[encoded data removed]",
      "text/plain": [
       "<Figure size 936x360 with 1 Axes>"
      ]
     },
     "metadata": {},
     "output_type": "display_data"
    }
   ],
   "source": [
    "driver_issues=cust_360[(cust_360[\"incident_cause\"]==\"Driver error\") |(cust_360[\"incident_cause\"]==\"Other driver error\")]\n",
    "driver_issues_grp=driver_issues.pivot_table(index=[\"gender\",\"incident_cause\"],values=\"claim_amount\",aggfunc=len)\n",
    "driver_issues_grp.plot(kind=\"bar\",y=\"claim_amount\",figsize=[13,5])\n",
    "plt.grid()"
   ]
  },
  {
   "cell_type": "markdown",
   "id": "b35b6ebd",
   "metadata": {},
   "source": [
    "## 13. Which age group had the maximum fraudulent policy claims? Visualize it on a bar char"
   ]
  },
  {
   "cell_type": "code",
   "execution_count": 45,
   "id": "e0e29ccd",
   "metadata": {},
   "outputs": [
    {
     "data": {
      "image/png": "[encoded data removed]",
      "text/plain": [
       "<Figure size 936x360 with 1 Axes>"
      ]
     },
     "metadata": {},
     "output_type": "display_data"
    }
   ],
   "source": [
    "fpc=cust_360[cust_360[\"fraudulent\"]==\"Yes\"]\n",
    "fpc_plt=fpc.groupby(by=\"cat\")[\"claim_amount\"].count()\n",
    "fpc_plt.plot(kind=\"bar\",figsize=[13,5])\n",
    "plt.grid()"
   ]
  },
  {
   "cell_type": "markdown",
   "id": "41cd2bd6",
   "metadata": {},
   "source": [
    "## 14. Visualize the monthly trend of the total amount that has been claimed by the customers. Ensure that on the “month” axis, the month is in a chronological order not alphabetical order"
   ]
  },
  {
   "cell_type": "code",
   "execution_count": 46,
   "id": "78674ee1",
   "metadata": {},
   "outputs": [
    {
     "data": {
      "image/png": "[encoded data removed]",
      "text/plain": [
       "<Figure size 936x360 with 1 Axes>"
      ]
     },
     "metadata": {},
     "output_type": "display_data"
    }
   ],
   "source": [
    "cust_360[\"Month\"]=cust_360[\"claim_date\"].dt.month\n",
    "monthly_trend=cust_360.groupby(by=\"Month\",sort=True)[[\"claim_amount\"]].sum()\n",
    "monthly_trend.plot(kind=\"line\",figsize=[13,5])\n",
    "plt.grid()"
   ]
  },
  {
   "cell_type": "markdown",
   "id": "6f04e5b4",
   "metadata": {},
   "source": [
    "## 15. What is the average claim amount for gender and age categories and suitably represent the above using a facetted bar chart, one facet that represents fraudulent claims and the other for non-fraudulent claims. Based on the conclusions from exploratory analysis as well as suitable statistical tests, answer the below questions. Please include a detailed write-up on the parameters taken into consideration, the Hypothesis testing steps, conclusion from the p-values and the business implications of the statements."
   ]
  },
  {
   "cell_type": "code",
   "execution_count": 50,
   "id": "4fe1cc85",
   "metadata": {},
   "outputs": [
    {
     "data": {
      "text/html": [
       "<div>\n",
       "<style scoped>\n",
       "    .dataframe tbody tr th:only-of-type {\n",
       "        vertical-align: middle;\n",
       "    }\n",
       "\n",
       "    .dataframe tbody tr th {\n",
       "        vertical-align: top;\n",
       "    }\n",
       "\n",
       "    .dataframe thead th {\n",
       "        text-align: right;\n",
       "    }\n",
       "</style>\n",
       "<table border=\"1\" class=\"dataframe\">\n",
       "  <thead>\n",
       "    <tr style=\"text-align: right;\">\n",
       "      <th>gender</th>\n",
       "      <th>Female</th>\n",
       "      <th>Male</th>\n",
       "    </tr>\n",
       "    <tr>\n",
       "      <th>cat</th>\n",
       "      <th></th>\n",
       "      <th></th>\n",
       "    </tr>\n",
       "  </thead>\n",
       "  <tbody>\n",
       "    <tr>\n",
       "      <th>Adult</th>\n",
       "      <td>17910.697927</td>\n",
       "      <td>18749.25782</td>\n",
       "    </tr>\n",
       "    <tr>\n",
       "      <th>children</th>\n",
       "      <td>6231.041672</td>\n",
       "      <td>14040.93155</td>\n",
       "    </tr>\n",
       "    <tr>\n",
       "      <th>youth</th>\n",
       "      <td>7595.972236</td>\n",
       "      <td>10681.31251</td>\n",
       "    </tr>\n",
       "  </tbody>\n",
       "</table>\n",
       "</div>"
      ],
      "text/plain": [
       "gender          Female         Male\n",
       "cat                                \n",
       "Adult     17910.697927  18749.25782\n",
       "children   6231.041672  14040.93155\n",
       "youth      7595.972236  10681.31251"
      ]
     },
     "execution_count": 50,
     "metadata": {},
     "output_type": "execute_result"
    }
   ],
   "source": [
    "cust_360.pivot_table(index=\"cat\",columns=\"gender\",values=\"claim_amount\",aggfunc=\"mean\")\n",
    "fraudulent=cust_360[cust_360.fraudulent==\"Yes\"]\n",
    "non_fraudulent=cust_360[cust_360.fraudulent==\"No\"]\n",
    "x=fraudulent.pivot_table(index=\"cat\",columns=\"gender\",values=\"claim_amount\",aggfunc=\"mean\")\n",
    "y=non_fraudulent.pivot_table(index=\"cat\",columns=\"gender\",values=\"claim_amount\",aggfunc=\"mean\")\n",
    "x"
   ]
  },
  {
   "cell_type": "code",
   "execution_count": 51,
   "id": "762ed01b",
   "metadata": {},
   "outputs": [
    {
     "data": {
      "text/plain": [
       "<AxesSubplot:xlabel='cat'>"
      ]
     },
     "execution_count": 51,
     "metadata": {},
     "output_type": "execute_result"
    },
    {
     "data": {
      "image/png": "[encoded data removed]",
      "text/plain": [
       "<Figure size 936x288 with 2 Axes>"
      ]
     },
     "metadata": {},
     "output_type": "display_data"
    }
   ],
   "source": [
    "fig, axes = plt.subplots(1, 2, figsize=(13, 4),sharey=True)\n",
    "x.plot.bar(ax=axes[0])\n",
    "y.plot.bar(ax=axes[1])"
   ]
  },
  {
   "cell_type": "markdown",
   "id": "e74273a0",
   "metadata": {},
   "source": [
    "## 16. Is there any similarity in the amount claimed by males and females?Two Sample T-Test (Paired)"
   ]
  },
  {
   "cell_type": "code",
   "execution_count": null,
   "id": "079c4ba2",
   "metadata": {},
   "outputs": [],
   "source": [
    "m=cust_360[cust_360.gender==\"Male\"]\n",
    "f=cust_360[cust_360.gender==\"Female\"]\n",
    "print(f'The average claimed by the male is {(m[\"claim_amount\"].mean())}')\n",
    "print(f'The average claimed by the female  is {(f[\"claim_amount\"].mean())}')"
   ]
  },
  {
   "cell_type": "code",
   "execution_count": 54,
   "id": "570fa105",
   "metadata": {},
   "outputs": [
    {
     "name": "stdout",
     "output_type": "stream",
     "text": [
      "The average claimed by the males is 12795.000007614408\n",
      "The average claimed by the females is 12061.233702272999\n"
     ]
    }
   ],
   "source": [
    "males=cust_360[cust_360.gender==\"Male\"]\n",
    "females=cust_360[cust_360.gender==\"Female\"]\n",
    "print(f'The average claimed by the males is {(males[\"claim_amount\"].mean())}')\n",
    "print(f'The average claimed by the females is {(females[\"claim_amount\"].mean())}')"
   ]
  },
  {
   "cell_type": "markdown",
   "id": "7b07e0a4",
   "metadata": {},
   "source": [
    "### Stage 1\n",
    " H0 : Males claimed == Females claimed\n",
    " H1 : Males claimed != Females claimed"
   ]
  },
  {
   "cell_type": "code",
   "execution_count": 55,
   "id": "e9fef960",
   "metadata": {},
   "outputs": [
    {
     "data": {
      "text/plain": [
       "Ttest_indResult(statistic=0.910525219359747, pvalue=0.3627454254155197)"
      ]
     },
     "execution_count": 55,
     "metadata": {},
     "output_type": "execute_result"
    }
   ],
   "source": [
    "stats.ttest_ind(males.claim_amount,females.claim_amount)"
   ]
  },
  {
   "cell_type": "markdown",
   "id": "6572581c",
   "metadata": {},
   "source": [
    "### stage 4-conclusion\n",
    "we Fail to reject NUll hypothesis,so there is similarity between males and females claimed"
   ]
  },
  {
   "cell_type": "markdown",
   "id": "b7b21ac7",
   "metadata": {},
   "source": [
    "## 17.Is there any relationship between age category and segment?"
   ]
  },
  {
   "cell_type": "markdown",
   "id": "c9fa4f7a",
   "metadata": {},
   "source": [
    "### Stage 1\n",
    "H0 : category == segment\n",
    "H1 : category!= segment"
   ]
  },
  {
   "cell_type": "code",
   "execution_count": 56,
   "id": "5e7ce8de",
   "metadata": {},
   "outputs": [
    {
     "data": {
      "text/plain": [
       "(5.070479496234779,\n",
       " 0.28014200887776347,\n",
       " 4,\n",
       " array([[156.35454545, 119.12727273, 114.51818182],\n",
       "        [145.12909091, 110.57454545, 106.29636364],\n",
       "        [139.51636364, 106.29818182, 102.18545455]]))"
      ]
     },
     "execution_count": 56,
     "metadata": {},
     "output_type": "execute_result"
    }
   ],
   "source": [
    "stats.chi2_contingency(pd.crosstab(cust_360.Segment,cust_360.cat))"
   ]
  },
  {
   "cell_type": "markdown",
   "id": "251b45f6",
   "metadata": {},
   "source": [
    "### stage 4-conclusion\n",
    "we Fail to reject NUll hypothesis,so there is relationship between category and segment"
   ]
  },
  {
   "cell_type": "markdown",
   "id": "fdf32c69",
   "metadata": {},
   "source": [
    "## 18. The current year has shown a significant rise in claim amounts as compared to 2016-17 fiscal average which was $10,000"
   ]
  },
  {
   "cell_type": "markdown",
   "id": "28dd97ee",
   "metadata": {},
   "source": [
    "### One Sample T-Test\n",
    "### Stage 1\n",
    "H0 : current year claim amount==10000  \n",
    "H1 : current year claim amount>10000"
   ]
  },
  {
   "cell_type": "code",
   "execution_count": 57,
   "id": "fdce7cd2",
   "metadata": {},
   "outputs": [],
   "source": [
    "cust_360['year']=cust_360.claim_date.dt.year"
   ]
  },
  {
   "cell_type": "code",
   "execution_count": 59,
   "id": "18053499",
   "metadata": {},
   "outputs": [
    {
     "name": "stdout",
     "output_type": "stream",
     "text": [
      "The average claimed current year 12638.007599405428\n"
     ]
    }
   ],
   "source": [
    "current_year= cust_360[cust_360['year']==2018]\n",
    "print(f'The average claimed current year {current_year[\"claim_amount\"].mean()}')"
   ]
  },
  {
   "cell_type": "code",
   "execution_count": 60,
   "id": "35124679",
   "metadata": {},
   "outputs": [
    {
     "data": {
      "text/plain": [
       "Ttest_1sampResult(statistic=4.359707103269088, pvalue=1.5862380370283107e-05)"
      ]
     },
     "execution_count": 60,
     "metadata": {},
     "output_type": "execute_result"
    }
   ],
   "source": [
    "stats.ttest_1samp(current_year.claim_amount,10000)"
   ]
  },
  {
   "cell_type": "markdown",
   "id": "d25e65c6",
   "metadata": {},
   "source": [
    "## stage 4-conclusion\n",
    "With 99 percemt confidence we reject the null hypothesis, hence we conclude that there has been significant rise in fiscal average"
   ]
  },
  {
   "cell_type": "markdown",
   "id": "771d4b8c",
   "metadata": {},
   "source": [
    "## 19. Is there any difference between age groups and insurance claims?"
   ]
  },
  {
   "cell_type": "markdown",
   "id": "4077db18",
   "metadata": {},
   "source": [
    "### ANOVA\n",
    "### Stage 1\n",
    "H0 : avg_adult == avg_children == avg_youth\n",
    "H1 : avg_adult <> avg_children <> avg_youth"
   ]
  },
  {
   "cell_type": "code",
   "execution_count": 62,
   "id": "bba35d51",
   "metadata": {},
   "outputs": [
    {
     "name": "stdout",
     "output_type": "stream",
     "text": [
      "The average claimed adult 13565.09807968276\n",
      "The average claimed children 11706.442714803314\n",
      "The average claimed youth 11674.19389330103\n"
     ]
    }
   ],
   "source": [
    "adult=cust_360[cust_360.cat==\"Adult\"]\n",
    "children=cust_360[cust_360.cat==\"children\"]\n",
    "youth=cust_360[cust_360.cat==\"youth\"]\n",
    "print(f'The average claimed adult {adult[\"claim_amount\"].mean()}')\n",
    "print(f'The average claimed children {children [\"claim_amount\"].mean()}')\n",
    "print(f'The average claimed youth {youth [\"claim_amount\"].mean()}')"
   ]
  },
  {
   "cell_type": "code",
   "execution_count": 63,
   "id": "72650fe7",
   "metadata": {},
   "outputs": [
    {
     "data": {
      "text/plain": [
       "F_onewayResult(statistic=2.6112173756841806, pvalue=0.0739015494649672)"
      ]
     },
     "execution_count": 63,
     "metadata": {},
     "output_type": "execute_result"
    }
   ],
   "source": [
    "stats.f_oneway(adult.claim_amount,children.claim_amount,youth.claim_amount)"
   ]
  },
  {
   "cell_type": "markdown",
   "id": "43850e67",
   "metadata": {},
   "source": [
    "### stage 4-conclusion\n",
    "with 90 percent confidence interval we reject the null hypothesis, hence we conclude that there is a difference between age group and insurance claimed."
   ]
  },
  {
   "cell_type": "markdown",
   "id": "b242d117",
   "metadata": {},
   "source": [
    "## 20. Is there any relationship between total number of policy claims and the claimed amount?"
   ]
  },
  {
   "cell_type": "markdown",
   "id": "93304112",
   "metadata": {},
   "source": [
    "### ANOVA\n",
    "### Stage 1\n",
    "H0 : avg_Total_policy_claims == avg_claimed_amount  \n",
    "H1 : avg_Total_policy_claims <> avg_claimed_amount"
   ]
  },
  {
   "cell_type": "code",
   "execution_count": 64,
   "id": "41256674",
   "metadata": {},
   "outputs": [
    {
     "data": {
      "text/plain": [
       "F_onewayResult(statistic=954.7901938097343, pvalue=2.0528784055091816e-174)"
      ]
     },
     "execution_count": 64,
     "metadata": {},
     "output_type": "execute_result"
    }
   ],
   "source": [
    "stats.f_oneway(cust_360.total_policy_claims, cust_360.claim_amount)"
   ]
  },
  {
   "cell_type": "markdown",
   "id": "212b4864",
   "metadata": {},
   "source": [
    "### stage 4-conclusion\n",
    "with 99 percent confidence interval we reject the null hypothesis, hence we conclude that there is no relationship between claimed amount and total policy claims."
   ]
  }
 ],
 "metadata": {
  "kernelspec": {
   "display_name": "Python 3 (ipykernel)",
   "language": "python",
   "name": "python3"
  },
  "language_info": {
   "codemirror_mode": {
    "name": "ipython",
    "version": 3
   },
   "file_extension": ".py",
   "mimetype": "text/x-python",
   "name": "python",
   "nbconvert_exporter": "python",
   "pygments_lexer": "ipython3",
   "version": "3.9.7"
  }
 },
 "nbformat": 4,
 "nbformat_minor": 5
}
